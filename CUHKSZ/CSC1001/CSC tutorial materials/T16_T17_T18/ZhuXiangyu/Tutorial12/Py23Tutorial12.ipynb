{
  "nbformat": 4,
  "nbformat_minor": 0,
  "metadata": {
    "colab": {
      "provenance": [],
      "collapsed_sections": [
        "H7ZyV_KY8DjR"
      ]
    },
    "kernelspec": {
      "name": "python3",
      "display_name": "Python 3"
    },
    "language_info": {
      "name": "python"
    }
  },
  "cells": [
    {
      "cell_type": "markdown",
      "metadata": {
        "id": "J_wj96s9vbWK"
      },
      "source": [
        "## **Tutorial 12: Stack, Queue**\n",
        "## 朱翔宇\n",
        "## 2023.11.23"
      ]
    },
    {
      "cell_type": "markdown",
      "metadata": {
        "id": "zX78nQxz7HPP"
      },
      "source": [
        "# Stack\n",
        "last-in, first-out"
      ]
    },
    {
      "cell_type": "code",
      "source": [
        "def func1():\n",
        "  print('func1 in')\n",
        "  func2()\n",
        "  print('func1 out')\n",
        "\n",
        "def func2():\n",
        "  print('func2 in')\n",
        "  func3()\n",
        "  print('func2 out')\n",
        "\n",
        "def func3():\n",
        "  print('func3 in')\n",
        "  print('func3 out')\n",
        "\n",
        "func1()"
      ],
      "metadata": {
        "id": "2oxG5LhJbmf2"
      },
      "execution_count": null,
      "outputs": []
    },
    {
      "cell_type": "code",
      "metadata": {
        "id": "pLMx7rcMvVh5"
      },
      "source": [
        "class ListStack:\n",
        "\n",
        "    def __init__(self):\n",
        "        self.__data = list()\n",
        "\n",
        "    def __len__(self):\n",
        "        return len(self.__data)\n",
        "\n",
        "    def is_empty(self):\n",
        "        return len(self.__data) == 0\n",
        "\n",
        "    def push(self,e):\n",
        "        self.__data.append(e)\n",
        "\n",
        "    def top(self):\n",
        "        if self.is_empty():\n",
        "            print('The stack is empty.')\n",
        "        else:\n",
        "            return self.__data[-1]\n",
        "            # return self.__data[self.__len__()-1]\n",
        "\n",
        "    def pop(self):\n",
        "        if self.is_empty():\n",
        "            print('The stack is empty.')\n",
        "        else:\n",
        "            return self.__data.pop()\n",
        "\n",
        "    def __str__(self):\n",
        "        return str(self.__data)\n",
        "    def __repr__(self):\n",
        "        return str(self)"
      ],
      "execution_count": null,
      "outputs": []
    },
    {
      "cell_type": "code",
      "metadata": {
        "id": "K5Zx1DG48OAR"
      },
      "source": [
        "stack1 = ListStack()\n",
        "stack1.push(1)\n",
        "stack1.push(2)\n",
        "stack1.push(4)\n",
        "\n",
        "# equal to print(str(stack1))\n",
        "print(stack1)\n",
        "\n",
        "val = stack1.pop()\n",
        "print('Pop value: {}, stack1:{}'.format(val, stack1))"
      ],
      "execution_count": null,
      "outputs": []
    },
    {
      "cell_type": "markdown",
      "metadata": {
        "id": "H7ZyV_KY8DjR"
      },
      "source": [
        "# Queue\n",
        "first-in, first-out"
      ]
    },
    {
      "cell_type": "code",
      "metadata": {
        "id": "CxSBzUhl8IJV"
      },
      "source": [
        "class ListQueue:\n",
        "\n",
        "    default_capacity = 10\n",
        "\n",
        "    def __init__(self):\n",
        "        self.__data = [None] * ListQueue.default_capacity\n",
        "        self.__size = 0\n",
        "        self.__front = 0\n",
        "        self.__end = 0\n",
        "\n",
        "\n",
        "    def __len__(self):\n",
        "        return self.__size\n",
        "\n",
        "    def is_empty(self):\n",
        "        return self.__size == 0\n",
        "\n",
        "    def is_full(self):\n",
        "        return self.__size == ListQueue.default_capacity\n",
        "\n",
        "    def first(self):\n",
        "        if self.is_empty():\n",
        "            print('Queue is empty.')\n",
        "        else:\n",
        "            return self.__data[self.__front]\n",
        "\n",
        "    #This method is added because we may want to visit the element in the end\n",
        "    def end(self):\n",
        "        if self.is_empty():\n",
        "            print('Queue is empty.')\n",
        "        else:\n",
        "            return self.__data[self.__end-1]\n",
        "\n",
        "    def dequeue(self):\n",
        "        if self.is_empty():\n",
        "            print('Queue is empty.')\n",
        "            return None\n",
        "        else:\n",
        "            answer = self.__data[self.__front]\n",
        "            # print('id of answer:{}, id of data:{}'.format(id(answer), id(self.__data[self.__front]) ))\n",
        "            self.__data[self.__front] = None\n",
        "            # print('set None: id of answer:{}, id of data:{}'.format(id(answer), id(self.__data[self.__front]) ))\n",
        "            # for val in self.__data:\n",
        "            #   print('id of val {}: {}'.format(val, id(val)))\n",
        "            self.__front = (self.__front + 1) % ListQueue.default_capacity\n",
        "            self.__size -= 1\n",
        "            return answer\n",
        "\n",
        "    def enqueue(self,e):\n",
        "        if self.__size == ListQueue.default_capacity:\n",
        "            print('The queue is full.')\n",
        "        else:\n",
        "            self.__data[self.__end] = e\n",
        "            self.__end = (self.__end + 1) % ListQueue.default_capacity\n",
        "            self.__size += 1\n",
        "\n",
        "    def show_queue(self):\n",
        "        for val in self.__data:\n",
        "          print('val:{}, id:{}'.format(val, id(val)))\n",
        "\n",
        "    def __str__(self):\n",
        "        #rearrange the self.__data starting from front\n",
        "        rearrangeQueue=self.__data[self.__front:]+self.__data[:self.__front]\n",
        "        return str([str(e) for e in rearrangeQueue if e != None])\n",
        "        # return str([str(e) for e in self.__data])\n",
        "\n",
        "    def __repr__(self):\n",
        "        return str(self)\n",
        "\n"
      ],
      "execution_count": null,
      "outputs": []
    },
    {
      "cell_type": "code",
      "metadata": {
        "id": "5ktV5-w-_YLT"
      },
      "source": [
        "##test program:\n",
        "q=ListQueue()\n",
        "q.enqueue(1)\n",
        "q.enqueue(2)\n",
        "q.enqueue(3)\n",
        "q.enqueue(4)\n",
        "# q.dequeue()\n",
        "print(q)"
      ],
      "execution_count": null,
      "outputs": []
    },
    {
      "cell_type": "markdown",
      "metadata": {
        "id": "LBPjVgK5DNZP"
      },
      "source": [
        "#Always have __front < __end??"
      ]
    },
    {
      "cell_type": "code",
      "metadata": {
        "id": "QdxDHL_vCZZi"
      },
      "source": [
        "q = ListQueue()\n",
        "for i in range(15):\n",
        "  if q.is_full():\n",
        "    for k in range(6):\n",
        "      q.dequeue()\n",
        "    # print(f'i={i}, q:{q}')\n",
        "  else:\n",
        "    q.enqueue(i)\n",
        "    # print(f'i={i}, q:{q}')\n",
        "\n",
        "q.show_queue()"
      ],
      "execution_count": null,
      "outputs": []
    },
    {
      "cell_type": "markdown",
      "metadata": {
        "id": "NNHwYq-uDovM"
      },
      "source": [
        "# Q1: Create a Stack"
      ]
    },
    {
      "cell_type": "code",
      "metadata": {
        "id": "k7eKrY5FDroy"
      },
      "source": [
        "values=ListStack()\n",
        "\n",
        "for i in range(16):\n",
        "    if i%3==0:\n",
        "        values.push(i)\n",
        "    elif i%4==0:\n",
        "        values.pop()\n",
        "\n",
        "print(values)"
      ],
      "execution_count": null,
      "outputs": []
    },
    {
      "cell_type": "code",
      "metadata": {
        "id": "hgZFPqTyEH8C"
      },
      "source": [
        "def square(n):\n",
        "    SquareStack=ListStack()\n",
        "    i=0\n",
        "    for j in range(1,n,2):\n",
        "        for k in range(j):\n",
        "            SquareStack.push(i)\n",
        "            i+=1\n",
        "        for k in range(j-1):\n",
        "            if not SquareStack.is_empty():\n",
        "                SquareStack.pop()\n",
        "\n",
        "        # SquareStack.push(i)\n",
        "        # i += j\n",
        "\n",
        "    print('Before pop: ', SquareStack)\n",
        "    while SquareStack.top()>n:\n",
        "        SquareStack.pop()\n",
        "    return SquareStack\n",
        "\n",
        "print(square(100))"
      ],
      "execution_count": null,
      "outputs": []
    },
    {
      "cell_type": "markdown",
      "metadata": {
        "id": "EO21RzBmIPLr"
      },
      "source": [
        "# Q2. Infix and Postfix"
      ]
    },
    {
      "cell_type": "code",
      "metadata": {
        "id": "CiNmZ7kwIRfn"
      },
      "source": [
        "def in2post(expr):\n",
        "    # priority dict for different operators\n",
        "    prec={'*':2,'/':2,'+':1,'-':1}\n",
        "    s=ListStack()\n",
        "    postFix=''\n",
        "    for c in expr:\n",
        "        if c in 'ABCDEFGHIJKLMNOPQRSTUVWXYZ':\n",
        "            postFix=postFix+c\n",
        "        elif c=='(':\n",
        "            s.push(c)\n",
        "        elif c==')':\n",
        "            t=s.pop()\n",
        "            while t != '(':\n",
        "                postFix=postFix+t\n",
        "                t=s.pop()\n",
        "        else:\n",
        "            while not s.is_empty():\n",
        "                if s.top()=='(':\n",
        "                    break\n",
        "                elif prec[s.top()] < prec[c]:\n",
        "                    break\n",
        "                else:\n",
        "                    postFix=postFix+s.pop()\n",
        "            s.push(c)\n",
        "\n",
        "        # print(f'postFix: {postFix}, stack:{s}')\n",
        "    while not s.is_empty():\n",
        "        postFix=postFix+s.pop()\n",
        "    return postFix\n",
        "\n",
        "print(in2post('V*W*(X+Y)-Z'))\n",
        "# print(in2post('X-(Y+W*(Z/V))'))\n",
        "# print(in2post('A-B*(C+D/E)'))\n",
        "# print(in2post('A/(B*C)-(D+E)'))"
      ],
      "execution_count": null,
      "outputs": []
    },
    {
      "cell_type": "code",
      "metadata": {
        "id": "AQEcVjXcI-8I"
      },
      "source": [
        "def evaluate(post_expr, val_mapping):\n",
        "    def add(x,y):\n",
        "        return x + y\n",
        "    def substract(x, y):\n",
        "        return x-y\n",
        "    def multiply(x, y):\n",
        "        return x*y\n",
        "    def divide(x, y):\n",
        "        return x/y\n",
        "    operator_dict = {\n",
        "        '+' : add,\n",
        "        '-' : substract,\n",
        "        '*' : multiply,\n",
        "        '/' : divide\n",
        "    }\n",
        "\n",
        "    stack = ListStack()\n",
        "    for c in post_expr:\n",
        "        # if c in '+-*\\':\n",
        "        if c in operator_dict:\n",
        "          # should do some check, but I just skip it~~\n",
        "          # for postfix expression, there must be two Characters before one operator\n",
        "          y = stack.pop()\n",
        "          x = stack.pop()\n",
        "\n",
        "          operator = operator_dict[c]\n",
        "          res = operator(x, y)\n",
        "          print('calculate {}{}{}, res: {}'.format(x, c, y, res) )\n",
        "          stack.push(res)\n",
        "        else:\n",
        "          val = val_mapping[c]\n",
        "          stack.push(val)\n",
        "\n",
        "    # at last, stack just has only one element\n",
        "    return stack.top()\n",
        "\n",
        "# expr = 'ABC*/DE+-'\n",
        "expr = 'ABCDE/+*-'\n",
        "print('Expression: ', expr)\n",
        "val_mapping = {c:i+1 for c,i in zip('ABCDE', range(5))}\n",
        "print('value mapping: ', val_mapping)\n",
        "\n",
        "res = evaluate(expr, val_mapping)\n",
        "print(\"evaluated value: \", res)"
      ],
      "execution_count": null,
      "outputs": []
    },
    {
      "cell_type": "markdown",
      "metadata": {
        "id": "7Nh1m5WDUvR2"
      },
      "source": [
        "# Q3. Find Target In A Stack"
      ]
    },
    {
      "cell_type": "code",
      "metadata": {
        "id": "OX0ZxbYrW5OI"
      },
      "source": [
        "def CheckElement(S,Q,e):\n",
        "    if S.is_empty():\n",
        "        print(e,'is not an element of S.')\n",
        "    else:\n",
        "        element=S.pop()\n",
        "        Q.enqueue(element)\n",
        "        if element==e:\n",
        "            print(e,'is an element of S.')\n",
        "        else:\n",
        "            return CheckElement(S,Q,e)\n",
        "\n",
        "    length=len(Q)\n",
        "    # print('S: ', S)\n",
        "    # print('Q: ', Q)\n",
        "    for i in range(length):\n",
        "        S.push(Q.dequeue())\n",
        "\n",
        "    # print('S: ', S)\n",
        "    # print('Q: ', Q)\n",
        "    for i in range(length):\n",
        "        Q.enqueue(S.pop())\n",
        "\n",
        "    # print('S: ', S)\n",
        "    # print('Q: ', Q)\n",
        "    for i in range(length):\n",
        "        S.push(Q.dequeue())\n",
        "\n",
        "    # print('S: ', S)\n",
        "    # print('Q: ', Q)\n",
        "    return S"
      ],
      "execution_count": null,
      "outputs": []
    },
    {
      "cell_type": "code",
      "metadata": {
        "id": "P9j5ND3WW7G7"
      },
      "source": [
        "S=ListStack()\n",
        "Q=ListQueue()\n",
        "S.push(3)\n",
        "S.push(6)\n",
        "S.push(78)\n",
        "S.push(9)\n",
        "print('before:',S)\n",
        "print('after:',CheckElement(S,Q,78))"
      ],
      "execution_count": null,
      "outputs": []
    }
  ]
}