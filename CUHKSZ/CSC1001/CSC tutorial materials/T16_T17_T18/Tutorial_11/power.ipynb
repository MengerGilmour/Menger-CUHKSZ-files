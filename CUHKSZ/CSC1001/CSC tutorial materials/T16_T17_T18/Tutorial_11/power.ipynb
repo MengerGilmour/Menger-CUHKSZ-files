{
 "cells": [
  {
   "cell_type": "code",
   "execution_count": 7,
   "metadata": {},
   "outputs": [],
   "source": [
    "import time"
   ]
  },
  {
   "cell_type": "code",
   "execution_count": 18,
   "metadata": {},
   "outputs": [
    {
     "name": "stdout",
     "output_type": "stream",
     "text": [
      "64\n"
     ]
    }
   ],
   "source": [
    "# Recursive algorithm with time complexity O(n)\n",
    "def func(x, power):\n",
    "    if power == 0:\n",
    "        return 1\n",
    "    else:\n",
    "        return x * func(x, power - 1)\n",
    "   \n",
    "res = func(2, 6)\n",
    "print(res)"
   ]
  },
  {
   "cell_type": "code",
   "execution_count": 19,
   "metadata": {},
   "outputs": [
    {
     "name": "stdout",
     "output_type": "stream",
     "text": [
      "64\n"
     ]
    }
   ],
   "source": [
    "# Recursive algorithm with time complexity O(logn)\n",
    "def func(x, power):\n",
    "    if power == 0:\n",
    "        return 1\n",
    "    elif power % 2 == 0:\n",
    "        half = func(x, power / 2)\n",
    "        return half * half\n",
    "    else:\n",
    "        half = func(x, (power - 1) / 2)\n",
    "        return half * half * x\n",
    "\n",
    "res = func(2, 6)\n",
    "print(res)"
   ]
  }
 ],
 "metadata": {
  "kernelspec": {
   "display_name": "Python 3",
   "language": "python",
   "name": "python3"
  },
  "language_info": {
   "codemirror_mode": {
    "name": "ipython",
    "version": 3
   },
   "file_extension": ".py",
   "mimetype": "text/x-python",
   "name": "python",
   "nbconvert_exporter": "python",
   "pygments_lexer": "ipython3",
   "version": "3.9.9"
  }
 },
 "nbformat": 4,
 "nbformat_minor": 2
}
