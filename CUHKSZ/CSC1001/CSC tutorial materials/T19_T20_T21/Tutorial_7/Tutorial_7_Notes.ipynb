{
  "nbformat": 4,
  "nbformat_minor": 0,
  "metadata": {
    "colab": {
      "provenance": []
    },
    "kernelspec": {
      "name": "python3",
      "display_name": "Python 3"
    },
    "language_info": {
      "name": "python"
    }
  },
  "cells": [
    {
      "cell_type": "markdown",
      "source": [
        "**CSC1001 TUTORIAL 7 - LISTS**\n",
        "\n",
        "Frederick Khasanto - 122040014 - 26 Oct 2023\n",
        "\n",
        "---"
      ],
      "metadata": {
        "id": "htgNwPG6ETnH"
      }
    },
    {
      "cell_type": "markdown",
      "source": [
        "# List\n",
        "- A sequence of elements, can include any objects\n",
        "- Ordered\n",
        "- Mutable object\n",
        "- Operations on lists are similar to string"
      ],
      "metadata": {
        "id": "K5Pg9rwmOkZv"
      }
    },
    {
      "cell_type": "code",
      "execution_count": 1,
      "metadata": {
        "id": "9EOxa_I_ENjj"
      },
      "outputs": [],
      "source": [
        "# Defining an empty list\n",
        "lst1 = []\n",
        "lst2 = list()\n",
        "# Defining a list with elements\n",
        "lst3 = [1, 'a', 'hello', print, input]"
      ]
    },
    {
      "cell_type": "code",
      "source": [
        "# Operations on list\n",
        "\n",
        "my_list1 = [1, 2]\n",
        "my_list2 = [3, 4]\n",
        "my_list3 = [3, 4]\n",
        "\n",
        "# Addition\n",
        "print(my_list1 + my_list2)\n",
        "\n",
        "# Multiplication (copies)\n",
        "print(my_list1 * 3)\n",
        "print(3 * my_list1)\n",
        "print()\n",
        "print(1 in my_list1)\n",
        "print(4 not in my_list2)\n",
        "print()\n",
        "\n",
        "# Comparison\n",
        "print(my_list1 > my_list2)\n",
        "print(my_list2 == my_list3)\n",
        "print(my_list2 is my_list3)\n",
        "print()\n",
        "\n",
        "# For loop\n",
        "for e in my_list1:\n",
        "  print(e)"
      ],
      "metadata": {
        "colab": {
          "base_uri": "https://localhost:8080/"
        },
        "id": "o3yoD3_KPGCL",
        "outputId": "a4ce0178-d0b9-4aed-cadb-50142c63e7fd"
      },
      "execution_count": 2,
      "outputs": [
        {
          "output_type": "stream",
          "name": "stdout",
          "text": [
            "[1, 2, 3, 4]\n",
            "[1, 2, 1, 2, 1, 2]\n",
            "[1, 2, 1, 2, 1, 2]\n",
            "\n",
            "True\n",
            "False\n",
            "\n",
            "False\n",
            "True\n",
            "False\n",
            "\n",
            "1\n",
            "2\n"
          ]
        }
      ]
    },
    {
      "cell_type": "code",
      "source": [
        "# Methods on lists\n",
        "\n",
        "his_list = ['a', 'b', 56]\n",
        "print(len(his_list))  # List length\n",
        "\n",
        "her_list = [345, 789, 10]\n",
        "print(min(her_list))  # minimum value\n",
        "print(max(her_list))  # maximum value\n",
        "print(sum(her_list))  # sum of values\n",
        "print()\n",
        "\n",
        "his_list.append(100)  # add value at the end of the list\n",
        "print(his_list)\n",
        "his_list.pop()  # remove the last element in the list\n",
        "print(his_list)\n",
        "his_list.remove('a')  # remove the first occurence of the element in the list\n",
        "print(his_list)\n",
        "print()\n",
        "\n",
        "his_list.extend(her_list)  # combine two lists\n",
        "print(his_list)\n",
        "print()\n",
        "\n",
        "her_list.insert(1, 200)  # insert element at specified index\n",
        "print(her_list)\n",
        "her_list.sort(reverse=False)  # sort in ascending order (reverse=True for descending)\n",
        "print(her_list)\n",
        "her_list.reverse()  # reverse the list\n",
        "print(her_list)\n",
        "print(her_list.count(200))  # count the number of occurences\n",
        "\n"
      ],
      "metadata": {
        "colab": {
          "base_uri": "https://localhost:8080/"
        },
        "id": "ss6NcsGlRFAL",
        "outputId": "20c54f86-4095-4f8a-f3c2-81669b4ff6f5"
      },
      "execution_count": 3,
      "outputs": [
        {
          "output_type": "stream",
          "name": "stdout",
          "text": [
            "3\n",
            "10\n",
            "789\n",
            "1144\n",
            "\n",
            "['a', 'b', 56, 100]\n",
            "['a', 'b', 56]\n",
            "['b', 56]\n",
            "\n",
            "['b', 56, 345, 789, 10]\n",
            "\n",
            "[345, 200, 789, 10]\n",
            "[10, 200, 345, 789]\n",
            "[789, 345, 200, 10]\n",
            "1\n"
          ]
        }
      ]
    },
    {
      "cell_type": "markdown",
      "source": [
        "## Slicing\n",
        "apply to lists and strings\n",
        "```\n",
        "lst[initial : end : step]\n",
        "```\n",
        " --initial: (optional) starting index (default 0)\n",
        "\n",
        " --end: (required) stopping index (excluded)\n",
        "\n",
        " --step: (optional) incrementation (default 1)\n",
        "\n",
        "![o99aU.png](data:image/png;base64,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)\n",
        "(Source: https://stackoverflow.com)"
      ],
      "metadata": {
        "id": "HpgFHzaPUtvo"
      }
    },
    {
      "cell_type": "code",
      "source": [
        "lst = ['a', 'b', 'c', 'd', 'e', 'f']\n",
        "word = 'abcdef'\n",
        "\n",
        "# lst[6]  # IndexError\n",
        "# word[6]\n",
        "\n",
        "print(lst[:])  # equals the whole list\n",
        "print(lst[6:])\n",
        "print()\n",
        "\n",
        "print(lst[:-3])  # equivalent to lst[0:-3:1]\n",
        "print(word[:-3])\n",
        "print()\n",
        "\n",
        "print(lst[1:-1])\n",
        "print(word[1:-1])\n",
        "print()\n",
        "\n",
        "print(lst[::2])  # step=2\n",
        "print(word[::2])\n",
        "print()\n",
        "\n",
        "print(lst[-3:-1])\n",
        "print(lst[-1:-3])\n",
        "print()\n",
        "\n",
        "print(lst[:-3:-1])\n",
        "print(lst[-1:-3:-1])\n",
        "print()\n",
        "\n",
        "print(lst[:3])\n",
        "print(lst[3:])\n",
        "print()\n",
        "\n"
      ],
      "metadata": {
        "colab": {
          "base_uri": "https://localhost:8080/"
        },
        "id": "qDCQb2xQV9fS",
        "outputId": "a0587798-0ab5-4257-c81b-14cf07ce066c"
      },
      "execution_count": 4,
      "outputs": [
        {
          "output_type": "stream",
          "name": "stdout",
          "text": [
            "['a', 'b', 'c', 'd', 'e', 'f']\n",
            "[]\n",
            "\n",
            "['a', 'b', 'c']\n",
            "abc\n",
            "\n",
            "['b', 'c', 'd', 'e']\n",
            "bcde\n",
            "\n",
            "['a', 'c', 'e']\n",
            "ace\n",
            "\n",
            "['d', 'e']\n",
            "[]\n",
            "\n",
            "['f', 'e']\n",
            "['f', 'e']\n",
            "\n",
            "['a', 'b', 'c']\n",
            "['d', 'e', 'f']\n",
            "\n"
          ]
        }
      ]
    },
    {
      "cell_type": "code",
      "source": [
        "# String strip\n",
        "str1 = '  abc   abc  '\n",
        "str2 = ' abc    abc '\n",
        "str3 = '#  #abc   abc  '\n",
        "\n",
        "#remove all leading and tailing whitespace\n",
        "print(str1.strip())\n",
        "print(str2.strip())\n",
        "\n",
        "#remove all leading and tailing character '#'\n",
        "print(str3.strip('#'))"
      ],
      "metadata": {
        "colab": {
          "base_uri": "https://localhost:8080/"
        },
        "id": "Zyjx80OKj9N1",
        "outputId": "00046fd2-6722-4f76-83d7-54fe9eef80b3"
      },
      "execution_count": 5,
      "outputs": [
        {
          "output_type": "stream",
          "name": "stdout",
          "text": [
            "abc   abc\n",
            "abc    abc\n",
            "  #abc   abc  \n"
          ]
        }
      ]
    },
    {
      "cell_type": "markdown",
      "source": [
        "# Dictionary\n",
        "- (key, value) pair sequence\n",
        "- not ordered"
      ],
      "metadata": {
        "id": "mwGi_Ds6ZaL8"
      }
    },
    {
      "cell_type": "code",
      "source": [
        "# Define an empty dictionary\n",
        "dict1 = {}\n",
        "dict2 = dict()\n",
        "\n",
        "# Define a dictionary with elements\n",
        "dict3 = {'key1':'val1', 'key2':'val2'}"
      ],
      "metadata": {
        "id": "-MexAdzkZuI0"
      },
      "execution_count": 6,
      "outputs": []
    },
    {
      "cell_type": "code",
      "source": [
        "# Adding elements to dictionary\n",
        "purse = dict()\n",
        "purse['money'] = 12\n",
        "purse['candy'] = 3\n",
        "purse['tissues'] = 75\n",
        "\n",
        "print(purse)\n",
        "print(purse['candy'])\n",
        "# print(purse['pencils'])  # KeyError since the key does not exist\n",
        "\n",
        "purse['candy'] += 2\n",
        "print(purse)"
      ],
      "metadata": {
        "colab": {
          "base_uri": "https://localhost:8080/"
        },
        "id": "NbX2_oy_bBEs",
        "outputId": "ad27fd5c-30fb-4474-aa2a-818a0e53b860"
      },
      "execution_count": 7,
      "outputs": [
        {
          "output_type": "stream",
          "name": "stdout",
          "text": [
            "{'money': 12, 'candy': 3, 'tissues': 75}\n",
            "3\n",
            "{'money': 12, 'candy': 5, 'tissues': 75}\n"
          ]
        }
      ]
    },
    {
      "cell_type": "markdown",
      "source": [
        "`get()` method\n",
        "\n",
        "`get(key, default_value)`\n",
        "\n",
        "To get the value of the wanted key, or give a default value if the key is not found"
      ],
      "metadata": {
        "id": "ZMTTwAkjd56A"
      }
    },
    {
      "cell_type": "code",
      "source": [
        "# get method\n",
        "count = {'a':1, 'b':2, 'c':3}\n",
        "print(count.get('a', 0))\n",
        "print(count.get('e', 5))\n",
        "\n",
        "count['f'] = count.get('f', 6)\n",
        "print(count)"
      ],
      "metadata": {
        "colab": {
          "base_uri": "https://localhost:8080/"
        },
        "id": "qOVYkbQHb3kc",
        "outputId": "1aac7e08-2fe4-455f-fd6c-0c5345550f3c"
      },
      "execution_count": 8,
      "outputs": [
        {
          "output_type": "stream",
          "name": "stdout",
          "text": [
            "1\n",
            "5\n",
            "{'a': 1, 'b': 2, 'c': 3, 'f': 6}\n"
          ]
        }
      ]
    },
    {
      "cell_type": "code",
      "source": [
        "numList = [3, 44, 45, 11, 5, 11]\n",
        "countDict = dict()  # dictionary to count occurences\n",
        "for num in numList:\n",
        "  countDict[num] = countDict.get(num,0) + 1\n",
        "\n",
        "print(countDict)"
      ],
      "metadata": {
        "colab": {
          "base_uri": "https://localhost:8080/"
        },
        "id": "oOlpUBebfqLO",
        "outputId": "7b2fc122-2ce0-4005-adbd-ff73b636bdc0"
      },
      "execution_count": 9,
      "outputs": [
        {
          "output_type": "stream",
          "name": "stdout",
          "text": [
            "{3: 1, 44: 1, 45: 1, 11: 2, 5: 1}\n"
          ]
        }
      ]
    },
    {
      "cell_type": "markdown",
      "source": [
        "Retrieving keys and values in dictionary"
      ],
      "metadata": {
        "id": "g4suC72oga43"
      }
    },
    {
      "cell_type": "code",
      "source": [
        "# Viewing elements in dictionary\n",
        "print(list(purse))  # list of keys\n",
        "print(list(purse.keys()))  # list of keys\n",
        "print(list(purse.values()))  # list of values\n",
        "print(list(purse.items()))  # list of (key, value) pairs\n",
        "print()\n",
        "\n",
        "for key, value in purse.items():\n",
        "  print(key, value)\n",
        "print()\n",
        "for key in purse:\n",
        "  print(key, purse[key])"
      ],
      "metadata": {
        "colab": {
          "base_uri": "https://localhost:8080/"
        },
        "id": "rL500CF_c8kw",
        "outputId": "16cf44e6-e2be-495c-8b4b-a858045ee9f9"
      },
      "execution_count": 10,
      "outputs": [
        {
          "output_type": "stream",
          "name": "stdout",
          "text": [
            "['money', 'candy', 'tissues']\n",
            "['money', 'candy', 'tissues']\n",
            "[12, 5, 75]\n",
            "[('money', 12), ('candy', 5), ('tissues', 75)]\n",
            "\n",
            "money 12\n",
            "candy 5\n",
            "tissues 75\n",
            "\n",
            "money 12\n",
            "candy 5\n",
            "tissues 75\n"
          ]
        }
      ]
    },
    {
      "cell_type": "markdown",
      "source": [
        "# Practice Questions\n",
        "Please try by yourself before looking into the answers~"
      ],
      "metadata": {
        "id": "IMFcLuUig0B1"
      }
    },
    {
      "cell_type": "markdown",
      "source": [
        "## Q1: Count Occurences"
      ],
      "metadata": {
        "id": "s7YchFiTg1vb"
      }
    },
    {
      "cell_type": "code",
      "source": [
        "integerLine=input(\"Enter several integers in the interval [1,9](separated by space):\\n\")\n",
        "integerList=integerLine.split()\n",
        "countDict=dict()\n",
        "\n",
        "for integer in integerList:\n",
        "    countDict[integer]=countDict.get(integer,0)+1\n",
        "\n",
        "for key,value in countDict.items():\n",
        "    if value>1:\n",
        "        print(\"%s occurs %d times.\"%(key,value))\n",
        "    else:\n",
        "        print(\"%s occurs %d time.\"%(key,value))"
      ],
      "metadata": {
        "id": "XgQJkOGMg5G2"
      },
      "execution_count": null,
      "outputs": []
    },
    {
      "cell_type": "markdown",
      "source": [
        "## Q2: Display distinct numbers"
      ],
      "metadata": {
        "id": "EFysv_oJhl8g"
      }
    },
    {
      "cell_type": "code",
      "source": [
        "numberLine=input(\"Enter ten numbers(separated by space):\\n\")\n",
        "numberList=numberLine.split()\n",
        "distinctnumber=[]\n",
        "\n",
        "for number in numberList:\n",
        "    if number not in distinctnumber:\n",
        "        distinctnumber.append(number)\n",
        "\n",
        "print(\"The distinct numbers are:\",end='')\n",
        "for number in distinctnumber:\n",
        "    print(number,end=' ')"
      ],
      "metadata": {
        "id": "SWafIcXZhp1T"
      },
      "execution_count": null,
      "outputs": []
    },
    {
      "cell_type": "markdown",
      "source": [
        "## Q3: Compute mean and deviation\n"
      ],
      "metadata": {
        "id": "R44GtHLgh9w4"
      }
    },
    {
      "cell_type": "code",
      "source": [
        "def mean(x):\n",
        "    return sum(x)/len(x)\n",
        "\n",
        "def deviation(x):\n",
        "    deviationList=[(xi-mean(x))**2/(len(x)-1) for xi in x]\n",
        "    deviation=sum(deviationList)**0.5\n",
        "    return deviation\n",
        "\n",
        "def main():\n",
        "    numberLine=input(\"Enter numbers whose mean and deviation you want to calculate(separated by space):\\n\")\n",
        "    numberList=numberLine.split()\n",
        "##  A quick way to change a list [x1,x2,x3,...] to a new list\n",
        "##  [f(x1),f(x2),f(x3),...] where f is some function or mapping.\n",
        "    numberList=[eval(x) for x in numberList]\n",
        "    print(\"The mean is\",mean(numberList))\n",
        "    print(\"The standard deviation is\",deviation(numberList))\n",
        "\n",
        "main()\n"
      ],
      "metadata": {
        "id": "v8J6ZRsXiE0s"
      },
      "execution_count": null,
      "outputs": []
    },
    {
      "cell_type": "markdown",
      "source": [
        "## Q4: Test sorted list"
      ],
      "metadata": {
        "id": "KdbufrzmicaX"
      }
    },
    {
      "cell_type": "code",
      "source": [
        "def isSorted(lst):\n",
        "    for i in range(len(lst)-1):\n",
        "        if lst[i]>lst[i+1]:\n",
        "            return False\n",
        "    return True\n",
        "\n",
        "def main():\n",
        "    lst=input(\"Enter elements in a list separated by space:\\n\").split()\n",
        "    lst=[eval(x) for x in lst]\n",
        "    if isSorted(lst):\n",
        "        print(\"The list is already sorted.\")\n",
        "    else:\n",
        "        print(\"The list is not sorted.\")\n",
        "\n",
        "main()\n"
      ],
      "metadata": {
        "id": "1ntojiduif2A"
      },
      "execution_count": null,
      "outputs": []
    },
    {
      "cell_type": "markdown",
      "source": [
        "## Q5: Word recitation"
      ],
      "metadata": {
        "id": "1egBZ00HilMm"
      }
    },
    {
      "cell_type": "code",
      "source": [
        "import random\n",
        "\n",
        "file=open(\"Dictionary.txt\",'r')\n",
        "words={}\n",
        "\n",
        "for line in file.readlines():\n",
        "    word=line.split(':')\n",
        "    words[word[1].strip()]=word[0].strip()\n",
        "\n",
        "k=list(words.keys())\n",
        "total=len(k)\n",
        "count=0  ##Use \"count\" to count the correct guesses\n",
        "\n",
        "##Notice that bool([])->False\n",
        "while k:\n",
        "    i=random.randint(0,len(k)-1)\n",
        "##  Print how many words you have guessed\n",
        "    print('(%d/%d)'%(total-len(k)+1,total),k[i])\n",
        "    answer=input('Please guess the word:')\n",
        "\n",
        "    if answer==words[k[i]]:\n",
        "        print(\"√√√\\nYour answer is correct!\\n\")\n",
        "        count+=1\n",
        "    else:\n",
        "        print(\"×××\\nThe correct answer should be \\\"%s\\\".\\n\"%words[k[i]])\n",
        "##  Remove the word that you have just guessed\n",
        "    k.remove(k[i])\n",
        "\n",
        "print('Finished!You have correctly guess %d out of %d words!'%(count,total))\n",
        "\n",
        "file.close()\n"
      ],
      "metadata": {
        "id": "mDOm_tPrio2o"
      },
      "execution_count": null,
      "outputs": []
    }
  ]
}