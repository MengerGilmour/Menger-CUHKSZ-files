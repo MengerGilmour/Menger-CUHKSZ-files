{
  "nbformat": 4,
  "nbformat_minor": 0,
  "metadata": {
    "colab": {
      "provenance": []
    },
    "kernelspec": {
      "name": "python3",
      "display_name": "Python 3"
    },
    "language_info": {
      "name": "python"
    }
  },
  "cells": [
    {
      "cell_type": "markdown",
      "source": [
        "# **CSC1001 Tutorial 14**\n",
        "## Tree\n",
        "\n",
        "Frederick Khasanto (122040014)\n",
        "\n",
        "7 December 2023"
      ],
      "metadata": {
        "id": "0ZW8N7dc5vow"
      }
    },
    {
      "cell_type": "markdown",
      "source": [
        "## Binary Tree\n",
        "\n",
        "A tree where each node has 0-2 children"
      ],
      "metadata": {
        "id": "x9WziOUV7tVi"
      }
    },
    {
      "cell_type": "code",
      "execution_count": 1,
      "metadata": {
        "id": "wlwgsZp75l38"
      },
      "outputs": [],
      "source": [
        "# Node class\n",
        "class Node:\n",
        "    def __init__(self,element,parent = None,left = None,right = None):\n",
        "        self.element = element\n",
        "        self.parent = parent\n",
        "        self.left = left\n",
        "        self.right = right"
      ]
    },
    {
      "cell_type": "code",
      "source": [
        "# Binary Tree class\n",
        "class LBTree:\n",
        "\n",
        "    def __init__(self):\n",
        "        self.root = None\n",
        "        self.size = 0\n",
        "\n",
        "    def __len__(self):\n",
        "        return self.size\n",
        "\n",
        "    def find_root(self):\n",
        "        return self.root\n",
        "\n",
        "    def parent(self,p):\n",
        "        return p.parent\n",
        "\n",
        "    def left(self,p):\n",
        "        return p.left\n",
        "\n",
        "    def right(self,p):\n",
        "        return p.right\n",
        "\n",
        "    def num_child(self,p):\n",
        "        count = 0\n",
        "        if p.left is not None:\n",
        "            count += 1\n",
        "        if p.right is not None:\n",
        "            count += 1\n",
        "        return count\n",
        "\n",
        "    def add_root(self,e):\n",
        "        if self.root is not None:\n",
        "            print('Root already exists.')\n",
        "            return None\n",
        "        self.size = 1\n",
        "        self.root = Node(e)\n",
        "        return self.root\n",
        "\n",
        "    def add_left(self,p,e):\n",
        "        if p.left is not None:\n",
        "            print('Left child already exists.')\n",
        "            return None\n",
        "        self.size += 1\n",
        "        p.left = Node(e,p)\n",
        "        return p.left\n",
        "\n",
        "    def add_right(self,p,e):\n",
        "        if p.right is not None:\n",
        "            print('Right child already exists.')\n",
        "            return None\n",
        "        self.size += 1\n",
        "        p.right = Node(e,p)\n",
        "        return p.right\n",
        "\n",
        "    def replace(self,p,e):\n",
        "        old = p.element\n",
        "        p.element = e\n",
        "        return old\n",
        "\n",
        "    def delete(self,p):\n",
        "        old = p.parent\n",
        "        if p.parent.left is p:\n",
        "            p.parent.left = None\n",
        "        if p.parent.right is p:\n",
        "            p.parent.right = None\n",
        "        return old"
      ],
      "metadata": {
        "id": "u3rRDTom8X7K"
      },
      "execution_count": 2,
      "outputs": []
    },
    {
      "cell_type": "markdown",
      "source": [
        "## Depth First Search (DFS)\n",
        "A traversal/searching algorithm\n",
        "\n",
        "Starts at the root and explores ***as deep as possible*** along each branch before backtracking\n",
        "\n",
        "Implement with recursion\n",
        "\n",
        "Helpful link: https://brilliant.org/wiki/depth-first-search-dfs/"
      ],
      "metadata": {
        "id": "XubUHvL_8ksx"
      }
    },
    {
      "cell_type": "code",
      "source": [
        "def DFSearch(t):\n",
        "    if t:\n",
        "        print(t.element)\n",
        "    if (t.left is None) and (t.right is None):\n",
        "        return\n",
        "    else:\n",
        "        if t.left is not None:\n",
        "            DFSearch(t.left)\n",
        "        if t.right is not None:\n",
        "            DFSearch(t.right)"
      ],
      "metadata": {
        "id": "t4YS8uh-9OJy"
      },
      "execution_count": 3,
      "outputs": []
    },
    {
      "cell_type": "markdown",
      "source": [
        "## Breadth First Search (BFS)\n",
        "A traversal/searching algorithm\n",
        "\n",
        "Starts at the root and ***visit all nodes at the same depth*** before going to the next depth\n",
        "\n",
        "Implement with Queue\n",
        "\n",
        "Helpful link: https://brilliant.org/wiki/breadth-first-search-bfs/"
      ],
      "metadata": {
        "id": "5seKjosY9ROO"
      }
    },
    {
      "cell_type": "code",
      "source": [
        "class ListQueue:\n",
        "\n",
        "    def __init__(self,capacity):\n",
        "        self.__capacity = capacity\n",
        "        self.__data = [None] * self.__capacity\n",
        "        self.__size = 0\n",
        "        self.__front = 0\n",
        "        self.__end = 0\n",
        "\n",
        "\n",
        "    def __len__(self):\n",
        "        return self.__size\n",
        "\n",
        "    def is_empty(self):\n",
        "        return self.__size == 0\n",
        "\n",
        "    def first(self):\n",
        "        if self.is_empty():\n",
        "            print('Queue is empty.')\n",
        "        else:\n",
        "            return self.__data[self.__front]\n",
        "\n",
        "    def dequeue(self):\n",
        "        if self.is_empty():\n",
        "            print('Queue is empty.')\n",
        "            return None\n",
        "        answer = self.__data[self.__front]\n",
        "        self.__data[self.__front] = None\n",
        "        self.__front = (self.__front + 1) % self.__capacity\n",
        "        self.__size -= 1\n",
        "        return answer\n",
        "\n",
        "    def enqueue(self,e):\n",
        "        if self.__size == self.__capacity:\n",
        "            print('The queue is full.')\n",
        "            return None\n",
        "        self.__data[self.__end] = e\n",
        "        self.__end = (self.__end + 1) % self.__capacity\n",
        "        self.__size += 1\n",
        "\n",
        "    def __str__(self):\n",
        "        return str(self.__data)\n",
        "    def __repr__(self):\n",
        "        return str(self)\n"
      ],
      "metadata": {
        "id": "MxKVgPKv_wC4"
      },
      "execution_count": 4,
      "outputs": []
    },
    {
      "cell_type": "code",
      "source": [
        "def BFSearch(t):\n",
        "\n",
        "    q = ListQueue(50)\n",
        "    q.enqueue(t)\n",
        "\n",
        "    while q.is_empty() is False:\n",
        "        cNode = q.dequeue()\n",
        "        if cNode.left is not None:\n",
        "            q.enqueue(cNode.left)\n",
        "        if cNode.right is not None:\n",
        "            q.enqueue(cNode.right)\n",
        "        print(cNode.element)"
      ],
      "metadata": {
        "id": "jcEi8hA19zhG"
      },
      "execution_count": 5,
      "outputs": []
    },
    {
      "cell_type": "markdown",
      "source": [
        "## Practice Questions"
      ],
      "metadata": {
        "id": "jg4b0QFf-LBb"
      }
    },
    {
      "cell_type": "markdown",
      "source": [
        "### Q1: Represent an Expression\n",
        "\n",
        "An arithmetic expression can be represented using a binary tree, with each node being a number or an operator. Try to draw a tree to represent an expression\n",
        "\n",
        "```\n",
        "2 x (5-4)-(8/(1+3))\n",
        "```\n",
        "\n",
        "(See slides for the answer)"
      ],
      "metadata": {
        "id": "i3GzMDl_-PCV"
      }
    },
    {
      "cell_type": "markdown",
      "source": [
        "### Q2: Create a Tree Object\n",
        "\n",
        "Create an object of a binary tree class, with value of each node equal to that in the binary tree of Q1."
      ],
      "metadata": {
        "id": "R62BtJcr_HYn"
      }
    },
    {
      "cell_type": "code",
      "source": [
        "tree=LBTree()\n",
        "t11=tree.add_root('-')\n",
        "t21=tree.add_left(t11,'*')\n",
        "t22=tree.add_right(t11,'/')\n",
        "t31=tree.add_left(t21,'2')\n",
        "t32=tree.add_right(t21,'-')\n",
        "t33=tree.add_left(t22,'8')\n",
        "t34=tree.add_right(t22,'+')\n",
        "t41=tree.add_left(t32,'5')\n",
        "t42=tree.add_right(t32,'4')\n",
        "t43=tree.add_left(t34,'1')\n",
        "t44=tree.add_right(t34,'3')"
      ],
      "metadata": {
        "id": "06w5BTso_DC4"
      },
      "execution_count": 6,
      "outputs": []
    },
    {
      "cell_type": "markdown",
      "source": [
        "### Q3: DFS/BFS\n",
        "\n",
        "i) Apply the Depth First Search algorithm to the tree you create in Q2, and check the order of elements in the tree printed out.\n",
        "\n",
        "ii) Modify the Depth First Search program a little bit, define a function that is able to evaluate an expression represented by a binary tree.\n",
        "\n",
        "iii) You can try i) ii) using Breadth First Search algorithm."
      ],
      "metadata": {
        "id": "6AAaX4RD_RB9"
      }
    },
    {
      "cell_type": "code",
      "source": [
        "print('Depth First Search:')\n",
        "DFSearch(tree.root)\n",
        "print('Breadth First Search:')\n",
        "BFSearch(tree.root)"
      ],
      "metadata": {
        "colab": {
          "base_uri": "https://localhost:8080/"
        },
        "id": "93ZnwJeg_ZS0",
        "outputId": "662c7e46-7db0-47b0-e632-da7bf31d75f0"
      },
      "execution_count": 7,
      "outputs": [
        {
          "output_type": "stream",
          "name": "stdout",
          "text": [
            "Depth First Search:\n",
            "-\n",
            "*\n",
            "2\n",
            "-\n",
            "5\n",
            "4\n",
            "/\n",
            "8\n",
            "+\n",
            "1\n",
            "3\n",
            "Breadth First Search:\n",
            "-\n",
            "*\n",
            "/\n",
            "2\n",
            "-\n",
            "8\n",
            "+\n",
            "5\n",
            "4\n",
            "1\n",
            "3\n"
          ]
        }
      ]
    },
    {
      "cell_type": "markdown",
      "source": [
        "### Q4: Path Length of a Tree\n",
        "\n",
        "The path length of a tree T is the sum of the depths of all positions in T. Describe a linear time method for computing the path length of a tree T."
      ],
      "metadata": {
        "id": "NWZFmNqb_33y"
      }
    },
    {
      "cell_type": "code",
      "source": [
        "def pathOfTree(p,path):\n",
        "    if (not p.left) and (not p.right): # leaf node (no children)\n",
        "        return 0\n",
        "    else:\n",
        "        path = path + 1\n",
        "        if p.left and p.right: # this node has 2 children (left and right)\n",
        "            return path + path + pathOfTree(p.left,path) + pathOfTree(p.right,path)\n",
        "        elif p.left and (not p.right): # this node only has left child\n",
        "            return path + pathOfTree(p.left,path)\n",
        "        elif (not p.left) and p.right: # this node only has right child\n",
        "            return path + pathOfTree(p.right,path)"
      ],
      "metadata": {
        "id": "zJnMuiNXAD9V"
      },
      "execution_count": 8,
      "outputs": []
    },
    {
      "cell_type": "code",
      "source": [
        "print(pathOfTree(tree.root,0))"
      ],
      "metadata": {
        "colab": {
          "base_uri": "https://localhost:8080/"
        },
        "id": "qcjupN9OAJjE",
        "outputId": "9653fa19-5978-453b-a666-1b2961a86e5f"
      },
      "execution_count": 9,
      "outputs": [
        {
          "output_type": "stream",
          "name": "stdout",
          "text": [
            "22\n"
          ]
        }
      ]
    }
  ]
}