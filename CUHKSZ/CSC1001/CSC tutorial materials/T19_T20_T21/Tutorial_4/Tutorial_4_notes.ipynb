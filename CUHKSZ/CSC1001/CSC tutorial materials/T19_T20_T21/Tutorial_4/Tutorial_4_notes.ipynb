{
  "nbformat": 4,
  "nbformat_minor": 0,
  "metadata": {
    "colab": {
      "provenance": [],
      "toc_visible": true
    },
    "kernelspec": {
      "name": "python3",
      "display_name": "Python 3"
    },
    "language_info": {
      "name": "python"
    }
  },
  "cells": [
    {
      "cell_type": "markdown",
      "source": [
        "#**CSC1001 TUTORIAL 4 - FLOW CONTROL**\n",
        "\n",
        "Frederick Khasanto - 122040014 - 28 Sept 2023"
      ],
      "metadata": {
        "id": "1Zub5DEKY5bK"
      }
    },
    {
      "cell_type": "markdown",
      "source": [
        "# **CONDITIONAL FLOW**"
      ],
      "metadata": {
        "id": "02-yCNE_bZ0G"
      }
    },
    {
      "cell_type": "markdown",
      "source": [
        "## Comparison expressions\n",
        "> returns `True` or `False`"
      ],
      "metadata": {
        "id": "q33xAOQtZM8i"
      }
    },
    {
      "cell_type": "markdown",
      "source": [
        "`a < b`     : a less than b\n",
        "\n",
        "`a > b`     : a more than b\n",
        "\n",
        "`a <= b`    : a less than or equal to b\n",
        "\n",
        "`a >= b`    : a more than or equal to b\n",
        "\n",
        "`a == b`    : a is equal to b (Note: `==` is used for comparison, while `=` is used for value assignment)\n",
        "\n",
        "`a != b`    : a is not equal to b"
      ],
      "metadata": {
        "id": "WeVIfRASeDYh"
      }
    },
    {
      "cell_type": "markdown",
      "source": [
        "#### Comparing numbers"
      ],
      "metadata": {
        "id": "2rVCytLrZtI-"
      }
    },
    {
      "cell_type": "code",
      "source": [
        "2 < 1  # False"
      ],
      "metadata": {
        "colab": {
          "base_uri": "https://localhost:8080/"
        },
        "id": "C9M1RynrZw0W",
        "outputId": "afd1378c-86a8-4e20-f5f5-71a188ae985a"
      },
      "execution_count": null,
      "outputs": [
        {
          "output_type": "execute_result",
          "data": {
            "text/plain": [
              "False"
            ]
          },
          "metadata": {},
          "execution_count": 59
        }
      ]
    },
    {
      "cell_type": "code",
      "source": [
        "7 == 7.0  # True"
      ],
      "metadata": {
        "colab": {
          "base_uri": "https://localhost:8080/"
        },
        "id": "XDJHcOE9aGpH",
        "outputId": "5a46f8e5-76dd-4847-fa8a-5b2c9039937c"
      },
      "execution_count": null,
      "outputs": [
        {
          "output_type": "execute_result",
          "data": {
            "text/plain": [
              "True"
            ]
          },
          "metadata": {},
          "execution_count": 60
        }
      ]
    },
    {
      "cell_type": "code",
      "source": [
        "1 == 10*0.1 # True"
      ],
      "metadata": {
        "colab": {
          "base_uri": "https://localhost:8080/"
        },
        "id": "QWOGBL0zaIWG",
        "outputId": "d6fb077e-c549-4b0b-db90-22acb9db28f1"
      },
      "execution_count": null,
      "outputs": [
        {
          "output_type": "execute_result",
          "data": {
            "text/plain": [
              "True"
            ]
          },
          "metadata": {},
          "execution_count": 61
        }
      ]
    },
    {
      "cell_type": "code",
      "source": [
        "1 == 0.1+0.1+0.1+0.1+0.1+0.1+0.1+0.1+0.1+0.1   # False (1 != 0.999999...) precision loss"
      ],
      "metadata": {
        "colab": {
          "base_uri": "https://localhost:8080/"
        },
        "id": "1QLqf07VaKzz",
        "outputId": "3fc9fdab-1e73-4909-a5d4-3fd8589e557d"
      },
      "execution_count": null,
      "outputs": [
        {
          "output_type": "execute_result",
          "data": {
            "text/plain": [
              "False"
            ]
          },
          "metadata": {},
          "execution_count": 62
        }
      ]
    },
    {
      "cell_type": "markdown",
      "source": [
        "#### Comparing strings\n",
        "\n",
        "(according to ASCII values, see https://www.ascii-code.com/ DEC-Symbol columns)"
      ],
      "metadata": {
        "id": "nUdoUo_WaWAc"
      }
    },
    {
      "cell_type": "code",
      "source": [
        "'a' < 'A'  # False"
      ],
      "metadata": {
        "colab": {
          "base_uri": "https://localhost:8080/"
        },
        "id": "N2kSr5PyaYGK",
        "outputId": "143d27ac-0c55-4ea8-ae83-29c765c8adc5"
      },
      "execution_count": null,
      "outputs": [
        {
          "output_type": "execute_result",
          "data": {
            "text/plain": [
              "False"
            ]
          },
          "metadata": {},
          "execution_count": 63
        }
      ]
    },
    {
      "cell_type": "code",
      "source": [
        "'2' < 'a'  # True"
      ],
      "metadata": {
        "colab": {
          "base_uri": "https://localhost:8080/"
        },
        "id": "KyGqqsCJacX_",
        "outputId": "cb8c73bb-c5ec-4e30-b850-8209a4f3078e"
      },
      "execution_count": null,
      "outputs": [
        {
          "output_type": "execute_result",
          "data": {
            "text/plain": [
              "True"
            ]
          },
          "metadata": {},
          "execution_count": 64
        }
      ]
    },
    {
      "cell_type": "code",
      "source": [
        "'aaa' < 'aab'  # True"
      ],
      "metadata": {
        "colab": {
          "base_uri": "https://localhost:8080/"
        },
        "id": "L8n6E2rPah3V",
        "outputId": "2641d58a-9a51-4530-a91d-721488fc1611"
      },
      "execution_count": null,
      "outputs": [
        {
          "output_type": "execute_result",
          "data": {
            "text/plain": [
              "True"
            ]
          },
          "metadata": {},
          "execution_count": 65
        }
      ]
    },
    {
      "cell_type": "code",
      "source": [
        "'abcd' < 'aaAA'  # False"
      ],
      "metadata": {
        "colab": {
          "base_uri": "https://localhost:8080/"
        },
        "id": "xAS8zIMHaiB6",
        "outputId": "32784cea-9048-4949-d50c-154ea019cf74"
      },
      "execution_count": null,
      "outputs": [
        {
          "output_type": "execute_result",
          "data": {
            "text/plain": [
              "False"
            ]
          },
          "metadata": {},
          "execution_count": 66
        }
      ]
    },
    {
      "cell_type": "code",
      "source": [
        "'A' == 65  # False; cannot directly compare, should be ord('A') == 65 => True"
      ],
      "metadata": {
        "colab": {
          "base_uri": "https://localhost:8080/"
        },
        "id": "6ShqCGICaiOh",
        "outputId": "47307aca-103e-4a0b-ba53-aad08b411927"
      },
      "execution_count": null,
      "outputs": [
        {
          "output_type": "execute_result",
          "data": {
            "text/plain": [
              "False"
            ]
          },
          "metadata": {},
          "execution_count": 67
        }
      ]
    },
    {
      "cell_type": "code",
      "source": [
        "ord('A') == 65 # True"
      ],
      "metadata": {
        "colab": {
          "base_uri": "https://localhost:8080/"
        },
        "id": "-phgUE8ICtdI",
        "outputId": "0c3d7898-e02e-4616-8ef8-37aec9113b6d"
      },
      "execution_count": null,
      "outputs": [
        {
          "output_type": "execute_result",
          "data": {
            "text/plain": [
              "True"
            ]
          },
          "metadata": {},
          "execution_count": 1
        }
      ]
    },
    {
      "cell_type": "markdown",
      "source": [
        "## Logical Operators\n",
        "> `not`, `and`, `or`"
      ],
      "metadata": {
        "id": "NVD9hzq9a7MQ"
      }
    },
    {
      "cell_type": "code",
      "source": [
        "not True"
      ],
      "metadata": {
        "colab": {
          "base_uri": "https://localhost:8080/"
        },
        "id": "5Mjxfd0WcLOq",
        "outputId": "382781d3-93df-4d55-af93-d6de8c67e5a3"
      },
      "execution_count": null,
      "outputs": [
        {
          "output_type": "execute_result",
          "data": {
            "text/plain": [
              "False"
            ]
          },
          "metadata": {},
          "execution_count": 68
        }
      ]
    },
    {
      "cell_type": "code",
      "source": [
        "print(True and True)\n",
        "print(True and False)\n",
        "print(False and True)\n",
        "print(False and False)"
      ],
      "metadata": {
        "colab": {
          "base_uri": "https://localhost:8080/"
        },
        "id": "Ji6dIs9vcMwp",
        "outputId": "44429e4d-ca38-4b11-8a53-4466b3c62ad3"
      },
      "execution_count": null,
      "outputs": [
        {
          "output_type": "stream",
          "name": "stdout",
          "text": [
            "True\n",
            "False\n",
            "False\n",
            "False\n"
          ]
        }
      ]
    },
    {
      "cell_type": "code",
      "source": [
        "print(True or True)\n",
        "print(True or False)\n",
        "print(False or True)\n",
        "print(False or False)"
      ],
      "metadata": {
        "colab": {
          "base_uri": "https://localhost:8080/"
        },
        "id": "6pZVWJyscUge",
        "outputId": "46388d5b-3883-49ac-f67a-c9d2367b01c0"
      },
      "execution_count": null,
      "outputs": [
        {
          "output_type": "stream",
          "name": "stdout",
          "text": [
            "True\n",
            "True\n",
            "True\n",
            "False\n"
          ]
        }
      ]
    },
    {
      "cell_type": "markdown",
      "source": [
        "## Conditional statements\n",
        "```\n",
        "if (condition 1):\n",
        "  ...\n",
        "elif (condition 2):\n",
        "  ...\n",
        "elif (condition 3):\n",
        "  ...\n",
        "else:\n",
        "  ...\n",
        "```\n",
        "\n"
      ],
      "metadata": {
        "id": "lAUdRKBvd7Fy"
      }
    },
    {
      "cell_type": "code",
      "source": [
        "x = 2\n",
        "# One-way decision (if)\n",
        "if (x > 1 and x < 5):   # 1 < x < 5\n",
        "    print(\"(one-way) run if block\")\n",
        "print(\"Always runs\")"
      ],
      "metadata": {
        "colab": {
          "base_uri": "https://localhost:8080/"
        },
        "id": "zIqhjs5IbhVY",
        "outputId": "a09eb797-3698-4ade-b075-8efafaafe6ce"
      },
      "execution_count": null,
      "outputs": [
        {
          "output_type": "stream",
          "name": "stdout",
          "text": [
            "(one-way) run if block\n",
            "Always runs\n"
          ]
        }
      ]
    },
    {
      "cell_type": "code",
      "source": [
        "# Two-way decision (if-else)\n",
        "if (x > 2):\n",
        "    print(\"(two-way) run if block\")\n",
        "else:\n",
        "    print(\"(two-way) run else block\")\n",
        "print(\"Always runs\")"
      ],
      "metadata": {
        "colab": {
          "base_uri": "https://localhost:8080/"
        },
        "id": "NXGfz292boch",
        "outputId": "0b79a205-84a9-44dd-e200-d950fb3dd45d"
      },
      "execution_count": null,
      "outputs": [
        {
          "output_type": "stream",
          "name": "stdout",
          "text": [
            "(two-way) run else block\n",
            "Always runs\n"
          ]
        }
      ]
    },
    {
      "cell_type": "code",
      "source": [
        "# Multi-way decision (if-elif-...-else)\n",
        "if (x < 5):   # 1st condition\n",
        "    print(\"(multi-way) run if block\")\n",
        "elif (x < 4): # 2nd condition\n",
        "    print(\"(multi-way) run 1st elif block\")\n",
        "elif (x < 3): # 3rd condition\n",
        "    print(\"(multi-way) run 2nd elif block\")\n",
        "else:\n",
        "    print(\"(multi-way) run else block\")\n",
        "print(\"Always runs\")"
      ],
      "metadata": {
        "colab": {
          "base_uri": "https://localhost:8080/"
        },
        "id": "THmI9S0bboma",
        "outputId": "381bcd93-6353-4e76-cc68-0dcaca8a9fe9"
      },
      "execution_count": null,
      "outputs": [
        {
          "output_type": "stream",
          "name": "stdout",
          "text": [
            "(multi-way) run if block\n",
            "Always runs\n"
          ]
        }
      ]
    },
    {
      "cell_type": "markdown",
      "source": [
        "# **REPEATED FLOW**"
      ],
      "metadata": {
        "id": "u5wEBCDWdvZt"
      }
    },
    {
      "cell_type": "markdown",
      "source": [
        "## Range"
      ],
      "metadata": {
        "id": "eI2egp2jcnfn"
      }
    },
    {
      "cell_type": "markdown",
      "source": [
        "`range(start, stop, step)`\n",
        "\n",
        " --start: (optional) starting number (default 0)\n",
        "\n",
        " --stop: (required) stopping number (excluded)\n",
        "\n",
        " --step: (optional) incrementation (default 1)"
      ],
      "metadata": {
        "id": "LkUjdgPtezWW"
      }
    },
    {
      "cell_type": "code",
      "source": [
        "range(5)"
      ],
      "metadata": {
        "colab": {
          "base_uri": "https://localhost:8080/"
        },
        "id": "QDtI1bl7dENm",
        "outputId": "0d32d2d7-bc5b-4f66-9d28-d751bf65644d"
      },
      "execution_count": null,
      "outputs": [
        {
          "output_type": "execute_result",
          "data": {
            "text/plain": [
              "range(0, 5)"
            ]
          },
          "metadata": {},
          "execution_count": 74
        }
      ]
    },
    {
      "cell_type": "code",
      "source": [
        "type(range(5))"
      ],
      "metadata": {
        "colab": {
          "base_uri": "https://localhost:8080/"
        },
        "id": "AsmSbJp1dLFd",
        "outputId": "cc0273e4-470e-47b3-8bbd-28a0c69bbd1e"
      },
      "execution_count": null,
      "outputs": [
        {
          "output_type": "execute_result",
          "data": {
            "text/plain": [
              "range"
            ]
          },
          "metadata": {},
          "execution_count": 75
        }
      ]
    },
    {
      "cell_type": "code",
      "source": [
        "list(range(10))"
      ],
      "metadata": {
        "colab": {
          "base_uri": "https://localhost:8080/"
        },
        "id": "EdeDrZIldRgl",
        "outputId": "003dcaa4-2782-4e69-bf29-f49377b3b757"
      },
      "execution_count": null,
      "outputs": [
        {
          "output_type": "execute_result",
          "data": {
            "text/plain": [
              "[0, 1, 2, 3, 4, 5, 6, 7, 8, 9]"
            ]
          },
          "metadata": {},
          "execution_count": 76
        }
      ]
    },
    {
      "cell_type": "code",
      "source": [
        "list(range(1,11))"
      ],
      "metadata": {
        "colab": {
          "base_uri": "https://localhost:8080/"
        },
        "id": "Oint33EodUNv",
        "outputId": "4072fb00-56fb-4863-d01c-a7fcc88e8b58"
      },
      "execution_count": null,
      "outputs": [
        {
          "output_type": "execute_result",
          "data": {
            "text/plain": [
              "[1, 2, 3, 4, 5, 6, 7, 8, 9, 10]"
            ]
          },
          "metadata": {},
          "execution_count": 77
        }
      ]
    },
    {
      "cell_type": "code",
      "source": [
        "list(range(0,30,5))"
      ],
      "metadata": {
        "colab": {
          "base_uri": "https://localhost:8080/"
        },
        "id": "5S_ycz-DdW0X",
        "outputId": "6f7d40aa-2f8d-455b-b0cb-30022e169e2e"
      },
      "execution_count": null,
      "outputs": [
        {
          "output_type": "execute_result",
          "data": {
            "text/plain": [
              "[0, 5, 10, 15, 20, 25]"
            ]
          },
          "metadata": {},
          "execution_count": 78
        }
      ]
    },
    {
      "cell_type": "code",
      "source": [
        "list(range(10,0,-1))"
      ],
      "metadata": {
        "colab": {
          "base_uri": "https://localhost:8080/"
        },
        "id": "tPqlJ8UVdY18",
        "outputId": "8249d6e3-4b50-4fdf-a63b-25e873b63dbc"
      },
      "execution_count": null,
      "outputs": [
        {
          "output_type": "execute_result",
          "data": {
            "text/plain": [
              "[10, 9, 8, 7, 6, 5, 4, 3, 2, 1]"
            ]
          },
          "metadata": {},
          "execution_count": 79
        }
      ]
    },
    {
      "cell_type": "code",
      "source": [
        "list(range(20,10,-2))"
      ],
      "metadata": {
        "colab": {
          "base_uri": "https://localhost:8080/"
        },
        "id": "jqrbQ0lYdf-k",
        "outputId": "d66f2adb-e334-48bc-a5ea-6c38e2b0c583"
      },
      "execution_count": null,
      "outputs": [
        {
          "output_type": "execute_result",
          "data": {
            "text/plain": [
              "[20, 18, 16, 14, 12]"
            ]
          },
          "metadata": {},
          "execution_count": 80
        }
      ]
    },
    {
      "cell_type": "code",
      "source": [
        "list(range(10,1,1))"
      ],
      "metadata": {
        "colab": {
          "base_uri": "https://localhost:8080/"
        },
        "id": "3Hu-qHrueW98",
        "outputId": "04e1e8c0-48af-4bcd-96dd-da562e76db74"
      },
      "execution_count": null,
      "outputs": [
        {
          "output_type": "execute_result",
          "data": {
            "text/plain": [
              "[]"
            ]
          },
          "metadata": {},
          "execution_count": 81
        }
      ]
    },
    {
      "cell_type": "code",
      "source": [
        "list(range(1,10,-1))"
      ],
      "metadata": {
        "colab": {
          "base_uri": "https://localhost:8080/"
        },
        "id": "RxOVy44heb97",
        "outputId": "b42c6633-1bd4-46e9-abbb-72dede4f6bee"
      },
      "execution_count": null,
      "outputs": [
        {
          "output_type": "execute_result",
          "data": {
            "text/plain": [
              "[]"
            ]
          },
          "metadata": {},
          "execution_count": 82
        }
      ]
    },
    {
      "cell_type": "markdown",
      "source": [
        "## `in` keyword"
      ],
      "metadata": {
        "id": "a3y-Aqa9hIjh"
      }
    },
    {
      "cell_type": "code",
      "source": [
        "friends = ['A','B','C']\n",
        "for friend in friends:\n",
        "  print('Hi,', friend)\n",
        "print('Done')"
      ],
      "metadata": {
        "colab": {
          "base_uri": "https://localhost:8080/"
        },
        "id": "xPSNJwsyhQKk",
        "outputId": "2c363154-1e0c-4b23-8c99-c611253a9925"
      },
      "execution_count": null,
      "outputs": [
        {
          "output_type": "stream",
          "name": "stdout",
          "text": [
            "Hi, A\n",
            "Hi, B\n",
            "Hi, C\n",
            "Done\n"
          ]
        }
      ]
    },
    {
      "cell_type": "code",
      "source": [
        "for c in 'csc1001':\n",
        "    print(c)"
      ],
      "metadata": {
        "colab": {
          "base_uri": "https://localhost:8080/"
        },
        "id": "Rqaac3fZfc4l",
        "outputId": "2c6e03e9-acaf-4ec8-d7d7-f9deae47a9ca"
      },
      "execution_count": null,
      "outputs": [
        {
          "output_type": "stream",
          "name": "stdout",
          "text": [
            "c\n",
            "s\n",
            "c\n",
            "1\n",
            "0\n",
            "0\n",
            "1\n"
          ]
        }
      ]
    },
    {
      "cell_type": "markdown",
      "source": [
        "## `for` Loop\n",
        "\n",
        "- definite: execute on exact number of times\n",
        "- no. of iterations = no. of elements in the set\n",
        "\n"
      ],
      "metadata": {
        "id": "NkPu8yFHfIiX"
      }
    },
    {
      "cell_type": "code",
      "source": [
        "for i in range(0, 10, 2):\n",
        "    print(i)"
      ],
      "metadata": {
        "colab": {
          "base_uri": "https://localhost:8080/"
        },
        "id": "3O2fOD4XfMWD",
        "outputId": "e09a44da-58f9-49b9-b4b0-fc07bb9b108e"
      },
      "execution_count": null,
      "outputs": [
        {
          "output_type": "stream",
          "name": "stdout",
          "text": [
            "0\n",
            "2\n",
            "4\n",
            "6\n",
            "8\n"
          ]
        }
      ]
    },
    {
      "cell_type": "markdown",
      "source": [
        "## `while` Loop\n",
        "- indefinite: keeps going until the logical condition becomes `False`\n"
      ],
      "metadata": {
        "id": "ODx1a3w0f7De"
      }
    },
    {
      "cell_type": "markdown",
      "source": [
        "\n",
        "\n",
        "```\n",
        "# forever loop\n",
        "while True:\n",
        "  ...\n",
        "```\n",
        "\n"
      ],
      "metadata": {
        "id": "LZS8AIxqV9IA"
      }
    },
    {
      "cell_type": "code",
      "source": [
        "n = 5\n",
        "while n > 0:\n",
        "  print(n)\n",
        "  n -= 1"
      ],
      "metadata": {
        "colab": {
          "base_uri": "https://localhost:8080/"
        },
        "id": "77aUNDZ4gL6a",
        "outputId": "290e4b61-3acd-4f98-d394-b2661463d727"
      },
      "execution_count": null,
      "outputs": [
        {
          "output_type": "stream",
          "name": "stdout",
          "text": [
            "5\n",
            "4\n",
            "3\n",
            "2\n",
            "1\n"
          ]
        }
      ]
    },
    {
      "cell_type": "markdown",
      "source": [
        "## `break` & `continue`"
      ],
      "metadata": {
        "id": "Oxeh5Neahipk"
      }
    },
    {
      "cell_type": "markdown",
      "source": [
        "`break`: terminates the loop\n",
        "\n",
        "`continue`: directly skip to the next iteration"
      ],
      "metadata": {
        "id": "qfHyFnOODT9j"
      }
    },
    {
      "cell_type": "code",
      "source": [
        "for i in range(5):\n",
        "  if i == 2:\n",
        "    break  # stops when i = 2 and directly get out of the loop\n",
        "  print(i)\n",
        "print('done')"
      ],
      "metadata": {
        "colab": {
          "base_uri": "https://localhost:8080/"
        },
        "id": "HDmpspdoDwp9",
        "outputId": "b394634c-eb3d-4d39-8086-8651dfa93a7a"
      },
      "execution_count": null,
      "outputs": [
        {
          "output_type": "stream",
          "name": "stdout",
          "text": [
            "0\n",
            "1\n",
            "done\n"
          ]
        }
      ]
    },
    {
      "cell_type": "code",
      "source": [
        "i = 0\n",
        "while i < 5:\n",
        "  if i == 2:\n",
        "    break\n",
        "  print(i)\n",
        "  i += 1\n",
        "print('done')"
      ],
      "metadata": {
        "colab": {
          "base_uri": "https://localhost:8080/"
        },
        "id": "V1kLqzmDbrH6",
        "outputId": "bed0f95b-6ec9-47f2-a762-6fcbf60f312f"
      },
      "execution_count": 3,
      "outputs": [
        {
          "output_type": "stream",
          "name": "stdout",
          "text": [
            "0\n",
            "1\n",
            "done\n"
          ]
        }
      ]
    },
    {
      "cell_type": "code",
      "source": [
        "for i in range(5):\n",
        "  if i == 2:\n",
        "    continue  # skips number 2, continue to 3\n",
        "  print(i)\n",
        "print('done')"
      ],
      "metadata": {
        "colab": {
          "base_uri": "https://localhost:8080/"
        },
        "id": "mCPKQEKED1hm",
        "outputId": "5208f573-7370-4964-dcd6-716d7b522502"
      },
      "execution_count": null,
      "outputs": [
        {
          "output_type": "stream",
          "name": "stdout",
          "text": [
            "0\n",
            "1\n",
            "3\n",
            "4\n",
            "done\n"
          ]
        }
      ]
    },
    {
      "cell_type": "code",
      "source": [
        "i = 0\n",
        "while i < 5:\n",
        "  if i == 2:\n",
        "    i += 1  # Update the i value before continuing\n",
        "    continue\n",
        "  print(i)\n",
        "  i += 1\n",
        "print('done')"
      ],
      "metadata": {
        "colab": {
          "base_uri": "https://localhost:8080/"
        },
        "id": "efzcpgzxcCDr",
        "outputId": "b242b1a4-80d5-4173-d964-2f46d5a338f5"
      },
      "execution_count": 5,
      "outputs": [
        {
          "output_type": "stream",
          "name": "stdout",
          "text": [
            "0\n",
            "1\n",
            "3\n",
            "4\n",
            "done\n"
          ]
        }
      ]
    },
    {
      "cell_type": "markdown",
      "source": [
        "## `try` and `except`\n",
        "- To handle errors in the code\n",
        "- If the code in the `try` block works, the `except` block will be skipped.\n",
        "- If the code in the `try` block fails (produce errors), the `except` block will be executed."
      ],
      "metadata": {
        "id": "KP5HxlpiibpZ"
      }
    },
    {
      "cell_type": "code",
      "source": [
        "str1 = \"Hello A\"\n",
        "try:\n",
        "  x = int(str1)  # ValueError\n",
        "except:\n",
        "  x = -1  # This will be run\n",
        "  print(\"There is an error.\")\n",
        "print(x)"
      ],
      "metadata": {
        "colab": {
          "base_uri": "https://localhost:8080/"
        },
        "id": "F3eBt2sKluYl",
        "outputId": "e51e7d3f-d5ab-4ada-c54a-afab86c2defa"
      },
      "execution_count": null,
      "outputs": [
        {
          "output_type": "stream",
          "name": "stdout",
          "text": [
            "-1\n"
          ]
        }
      ]
    },
    {
      "cell_type": "code",
      "source": [
        "str2 = \"123\"\n",
        "try:\n",
        "  x = int(str2)  # No error, code will be run\n",
        "except:\n",
        "  x = -1\n",
        "  print(\"There is an error.\")\n",
        "print(x)"
      ],
      "metadata": {
        "colab": {
          "base_uri": "https://localhost:8080/"
        },
        "id": "ZjUK_OmRmG0w",
        "outputId": "d341e309-c6c0-4534-a172-12029bd0e0eb"
      },
      "execution_count": null,
      "outputs": [
        {
          "output_type": "stream",
          "name": "stdout",
          "text": [
            "123\n"
          ]
        }
      ]
    },
    {
      "cell_type": "code",
      "source": [
        "try:\n",
        "  num = int(input(\"Please enter a number: \"))  # ValueError if user does not input numbers\n",
        "  print(\"You inputted\", num)\n",
        "except:\n",
        "  print(\"Your input is not a number!\")"
      ],
      "metadata": {
        "colab": {
          "base_uri": "https://localhost:8080/"
        },
        "id": "fQ8obS5tmc7I",
        "outputId": "0773f669-8280-4361-dd56-f004dfaeef8a"
      },
      "execution_count": null,
      "outputs": [
        {
          "output_type": "stream",
          "name": "stdout",
          "text": [
            "Please enter a number: abcd\n",
            "Your input is not a number!\n"
          ]
        }
      ]
    },
    {
      "cell_type": "code",
      "source": [
        "# Keep asking for input until user gives a correct input\n",
        "while True:\n",
        "  try:\n",
        "    num = int(input(\"Please enter a number: \"))\n",
        "    print(\"You inputted\", num)\n",
        "    break\n",
        "  except:\n",
        "    print(\"Your input is not a number!\")"
      ],
      "metadata": {
        "colab": {
          "base_uri": "https://localhost:8080/"
        },
        "id": "3VV5Vf-pm9mr",
        "outputId": "afe9120d-5435-4899-ae14-679493ee93cb"
      },
      "execution_count": null,
      "outputs": [
        {
          "output_type": "stream",
          "name": "stdout",
          "text": [
            "Please enter a number: abcd\n",
            "Your input is not a number!\n",
            "Please enter a number: csc1001\n",
            "Your input is not a number!\n",
            "Please enter a number: 20\n",
            "You inputted 20\n"
          ]
        }
      ]
    },
    {
      "cell_type": "markdown",
      "source": [
        "# Practice Questions"
      ],
      "metadata": {
        "id": "xP_OZPgcW_bh"
      }
    },
    {
      "cell_type": "markdown",
      "source": [
        "##Q1: Quadratic equation"
      ],
      "metadata": {
        "id": "88KvJK1vWbrN"
      }
    },
    {
      "cell_type": "code",
      "source": [
        "##Prompt the users to input the coefficients\n",
        "a,b,c=eval(input(\"Enter coefficients a,b and c in the equation ax^2+bx+c=0:\"))\n",
        "\n",
        "##Calculate the discriminant (= b^2-4ac)\n",
        "discriminant=b**2-4*a*c\n",
        "\n",
        "##Obtain the roots based on different conditions for the discriminant\n",
        "if discriminant>0:\n",
        "    x1=(-b+discriminant**0.5)/2/a\n",
        "    x2=(-b-discriminant**0.5)/2/a\n",
        "    print('The two roots of the equation are x1=%.2f and x2=%.2f.'%(x1,x2))\n",
        "elif discriminant==0:\n",
        "    x=-b/2/a\n",
        "    print(\"There is only one root x=%.2f.\"%x)\n",
        "else:\n",
        "    print(\"The equation has no real roots.\")\n"
      ],
      "metadata": {
        "id": "7wyDVPBoWicz"
      },
      "execution_count": null,
      "outputs": []
    },
    {
      "cell_type": "markdown",
      "source": [
        "##Q2: Days in a month"
      ],
      "metadata": {
        "id": "TZ7SMyaUWyi2"
      }
    },
    {
      "cell_type": "code",
      "source": [
        "##Prompt the user to enter the month and year\n",
        "month,year=eval(input(\"Enter the month and year:\"))\n",
        "\n",
        "##Use multi-way decision flow to handle different cases for different month\n",
        "if month==1:\n",
        "##  Use numOfDay to store the number of days\n",
        "    numOfDay=31\n",
        "    print(\"January %d has %d days\"%(year,numOfDay))\n",
        "elif month==2:\n",
        "    ##  Conditions for leap year(闰年)\n",
        "    if (year%4==0 and year%100 != 0) or year%400==0:\n",
        "        numOfDay=29\n",
        "        print(\"February %d has %d days\"%(year,numOfDay))\n",
        "    else:\n",
        "        numOfDay=28\n",
        "        print(\"February %d has %d days\"%(year,numOfDay))\n",
        "elif month==3:\n",
        "    numOfDay=31\n",
        "    print(\"March %d has %d days\"%(year,numOfDay))\n",
        "elif month==4:\n",
        "    numOfDay=30\n",
        "    print(\"April %d has %d days\"%(year,numOfDay))\n",
        "elif month==5:\n",
        "    numOfDay=31\n",
        "    print(\"May %d has %d days\"%(year,numOfDay))\n",
        "elif month==6:\n",
        "    numOfDay=30\n",
        "    print(\"June %d has %d days\"%(year,numOfDay))\n",
        "elif month==7:\n",
        "    numOfDay=31\n",
        "    print(\"July %d has %d days\"%(year,numOfDay))\n",
        "elif month==8:\n",
        "    numOfDay=31\n",
        "    print(\"August %d has %d days\"%(year,numOfDay))\n",
        "elif month==9:\n",
        "    numOfDay=30\n",
        "    print(\"September %d has %d days\"%(year,numOfDay))\n",
        "elif month==10:\n",
        "    numOfDay=31\n",
        "    print(\"October %d has %d days\"%(year,numOfDay))\n",
        "elif month==11:\n",
        "    numOfDay=30\n",
        "    print(\"November %d has %d days\"%(year,numOfDay))\n",
        "else:\n",
        "    numOfDay=31\n",
        "    print(\"December %d has %d days\"%(year,numOfDay))\n"
      ],
      "metadata": {
        "id": "bTIXyeRVW3Ie"
      },
      "execution_count": null,
      "outputs": []
    },
    {
      "cell_type": "markdown",
      "source": [
        "##Q3: Sum the digits"
      ],
      "metadata": {
        "id": "Imo2ZzyhXEPu"
      }
    },
    {
      "cell_type": "code",
      "source": [
        "while True:\n",
        "    ##  Prompt up the indicator for user to enter\n",
        "    number = eval(input(\"Enter a number:\"))\n",
        "    ##  Use sumup to store the sum of digits\n",
        "    sumup = 0\n",
        "    ##  if number is bigger than 0, there are digits to be summed, so go into the loop\n",
        "    while number > 0:\n",
        "        ##  sum up the digit\n",
        "        sumup += number%10\n",
        "        ##  remove the digit already being summed\n",
        "        number //= 10\n",
        "\n",
        "    ##  Display the result\n",
        "    print(\"Sum up all the digits as:\", sumup)\n",
        "\n",
        "    ##  Use decision to store the string determining whether to continue or not\n",
        "    decision = input(\"Do you want to continue? y or n:\")\n",
        "    ##  If you input 'y', then continue to enter a number, otherwise stop\n",
        "    if decision !='y':\n",
        "        break\n",
        "    ##  This part can be omitted\n",
        "    else:\n",
        "        continue"
      ],
      "metadata": {
        "id": "H_xtUkhgXHga"
      },
      "execution_count": null,
      "outputs": []
    },
    {
      "cell_type": "markdown",
      "source": [
        "##Q4: Count numbers"
      ],
      "metadata": {
        "id": "2IFE_qSCX2KD"
      }
    },
    {
      "cell_type": "code",
      "source": [
        "##Give an initial value other than 0\n",
        "integer = None\n",
        "##To count positive numbers\n",
        "countPositive = 0\n",
        "##To count negative numbers\n",
        "countNegative = 0\n",
        "##To count total numbers\n",
        "count = 0\n",
        "##To sum up the numbers\n",
        "sumOfNum = 0\n",
        "\n",
        "##if integer==0, stop the loop\n",
        "while integer != 0:\n",
        "    ##  Use try except to capture the error input\n",
        "    try:\n",
        "        integer = int(input(\"Enter an integer, the input ends if it is 0: \"))\n",
        "    except:\n",
        "        print(\"Invalid number! Please input again!\")\n",
        "        ##  Continue the loop while not execute the following code\n",
        "        continue\n",
        "\n",
        "    if integer > 0:\n",
        "        countPositive += 1\n",
        "    elif integer < 0:\n",
        "        countNegative += 1\n",
        "    else:\n",
        "        ##  Continue without executing the following code, in this case integer=0, will break the loop\n",
        "        continue\n",
        "\n",
        "    count += 1\n",
        "    sumOfNum += integer\n",
        "\n",
        "if count==0:\n",
        "    print(\"No numbers are input except 0\")\n",
        "else:\n",
        "    print(\"The number of positives is %d\"%countPositive)\n",
        "    print(\"The number of negatives is %d\"%countNegative)\n",
        "    print(\"The sum of numbers is %d\"%sumOfNum)\n",
        "    print(\"The average of numbers is %.2f\"%(sumOfNum/count))\n"
      ],
      "metadata": {
        "id": "S9nRXzXPYBko"
      },
      "execution_count": null,
      "outputs": []
    },
    {
      "cell_type": "markdown",
      "source": [
        "##Q5: Find factors"
      ],
      "metadata": {
        "id": "Op7TGz1XYmzi"
      }
    },
    {
      "cell_type": "code",
      "source": [
        "##Use try except to capture the error of not entering a number\n",
        "try:\n",
        "    integer=int(input(\"Enter an integer:\"))\n",
        "except:\n",
        "    integer=None\n",
        "\n",
        "if integer is None:\n",
        "    print(\"The input is invalid!\")\n",
        "else:\n",
        "    ##  Start from 2\n",
        "    factor=2\n",
        "    ##  Iterate from 2 to the integer\n",
        "    while factor<=integer:\n",
        "        if integer%factor==0:\n",
        "            ##  Stop when factor equal to the integer\n",
        "            if integer==factor:\n",
        "                print(factor)\n",
        "                break\n",
        "            print(factor,end=',')\n",
        "            integer/=factor\n",
        "        else:\n",
        "            factor+=1\n"
      ],
      "metadata": {
        "id": "96SVWrLBY1aO"
      },
      "execution_count": null,
      "outputs": []
    },
    {
      "cell_type": "markdown",
      "source": [
        "##Q6: Display a pyramid"
      ],
      "metadata": {
        "id": "XvlvQoivZBJJ"
      }
    },
    {
      "cell_type": "code",
      "source": [
        "##Input the number of lines of the pyramid\n",
        "try:\n",
        "    numOfLine=int(input(\"Enter the number of lines:\"))\n",
        "except:\n",
        "    numOfLine=None\n",
        "\n",
        "if numOfLine is None:\n",
        "    print(\"The input is invalid!\")\n",
        "else:\n",
        "    ##Diplay each row of the pyramid\n",
        "    for row in range(1,numOfLine+1):\n",
        "\n",
        "        ##  Display the left part of the row\n",
        "        for column in range(numOfLine,1,-1):\n",
        "            if column<=row:\n",
        "                ##  Print the number\n",
        "                print(\"%4d\"%column,end='')\n",
        "            else:\n",
        "                ##  Print space\n",
        "                print(\"%4s\"%\" \",end='')\n",
        "\n",
        "        ##  Display the right part of the row\n",
        "        for column in range(1,numOfLine+1):\n",
        "            if column<=row:\n",
        "                ##  Print the number\n",
        "                print(\"%4d\"%column,end='')\n",
        "            else:\n",
        "                ##  Print space\n",
        "                print(\"%4s\"%\" \",end='')\n",
        "\n",
        "        ##  Change a new line to print\n",
        "        print()\n"
      ],
      "metadata": {
        "id": "uRdWxhu1ZDMP"
      },
      "execution_count": null,
      "outputs": []
    }
  ]
}