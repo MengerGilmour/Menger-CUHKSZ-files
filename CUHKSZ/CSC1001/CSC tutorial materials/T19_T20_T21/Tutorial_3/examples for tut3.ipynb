{
 "cells": [
  {
   "cell_type": "code",
   "execution_count": null,
   "id": "3ee38b26-9f88-4b38-ac01-7c2901c2f874",
   "metadata": {},
   "outputs": [],
   "source": [
    "# It is recommended that you try to run the code yourself, there may be typos in the examples"
   ]
  },
  {
   "cell_type": "code",
   "execution_count": null,
   "id": "79618ecc-706d-4270-b191-92c1454f69a2",
   "metadata": {},
   "outputs": [],
   "source": [
    "# boolean True - 1 False - 0"
   ]
  },
  {
   "cell_type": "code",
   "execution_count": 1,
   "id": "b1ecf219-e9c1-4bbe-acef-11bdbf1ee6d1",
   "metadata": {},
   "outputs": [
    {
     "data": {
      "text/plain": [
       "True"
      ]
     },
     "execution_count": 1,
     "metadata": {},
     "output_type": "execute_result"
    }
   ],
   "source": [
    "4 > (3<5)"
   ]
  },
  {
   "cell_type": "code",
   "execution_count": 2,
   "id": "3c13be40-7ce0-4f01-9116-9203fa2f02c5",
   "metadata": {},
   "outputs": [
    {
     "data": {
      "text/plain": [
       "bool"
      ]
     },
     "execution_count": 2,
     "metadata": {},
     "output_type": "execute_result"
    }
   ],
   "source": [
    "type(3<5)"
   ]
  },
  {
   "cell_type": "code",
   "execution_count": 3,
   "id": "9dfe7161-6b39-4b2e-ba68-1cebac61de48",
   "metadata": {},
   "outputs": [
    {
     "data": {
      "text/plain": [
       "['C', 'U', 'H', 'K', '(', 'S', 'Z', ')']"
      ]
     },
     "execution_count": 3,
     "metadata": {},
     "output_type": "execute_result"
    }
   ],
   "source": [
    "list(\"CUHK(SZ)\")"
   ]
  },
  {
   "cell_type": "code",
   "execution_count": 4,
   "id": "15194dbf-858a-4a0c-b135-4c70c7c9bc87",
   "metadata": {},
   "outputs": [
    {
     "data": {
      "text/plain": [
       "'123'"
      ]
     },
     "execution_count": 4,
     "metadata": {},
     "output_type": "execute_result"
    }
   ],
   "source": [
    "str(123)"
   ]
  },
  {
   "cell_type": "code",
   "execution_count": 5,
   "id": "b7a34663-054f-46ee-bf7b-b7f8f0a287a7",
   "metadata": {},
   "outputs": [
    {
     "data": {
      "text/plain": [
       "'3'"
      ]
     },
     "execution_count": 5,
     "metadata": {},
     "output_type": "execute_result"
    }
   ],
   "source": [
    "str(1+1+1)"
   ]
  },
  {
   "cell_type": "code",
   "execution_count": 6,
   "id": "68e30dc6-1c15-42c4-85a3-fcb8ba9b63d9",
   "metadata": {},
   "outputs": [
    {
     "data": {
      "text/plain": [
       "'111'"
      ]
     },
     "execution_count": 6,
     "metadata": {},
     "output_type": "execute_result"
    }
   ],
   "source": [
    "str(1)+str(1)+str(1)"
   ]
  },
  {
   "cell_type": "code",
   "execution_count": 7,
   "id": "e5c18e91-73df-4393-b1c5-ea8d27c9ab02",
   "metadata": {},
   "outputs": [],
   "source": [
    "# for mutable variables i.e. list...\n",
    "# by assigning same value/ copy/ ... different ID address\n",
    "# only lst1 = lst2 , same ID \n",
    "\n",
    "# for immutable variables i.e. string int float ....\n",
    "# same value, same ID "
   ]
  },
  {
   "cell_type": "code",
   "execution_count": 8,
   "id": "6c8884fc-832c-46e0-ab9d-8d31ef550f28",
   "metadata": {},
   "outputs": [
    {
     "name": "stdout",
     "output_type": "stream",
     "text": [
      "True\n",
      "True\n"
     ]
    }
   ],
   "source": [
    "a = 1\n",
    "b = 1\n",
    "print(a == b)\n",
    "print(a is b)"
   ]
  },
  {
   "cell_type": "code",
   "execution_count": 9,
   "id": "8e34b231-44dc-4097-8033-e60bf53daac9",
   "metadata": {},
   "outputs": [
    {
     "name": "stdout",
     "output_type": "stream",
     "text": [
      "True\n"
     ]
    }
   ],
   "source": [
    "a = 1\n",
    "b = a\n",
    "print(a is b)"
   ]
  },
  {
   "cell_type": "code",
   "execution_count": 10,
   "id": "d88fbb21-acf3-41bd-bd06-ef9b8c9f3aac",
   "metadata": {},
   "outputs": [
    {
     "name": "stdout",
     "output_type": "stream",
     "text": [
      "after we change b, a is b? False\n",
      "1\n",
      "2\n"
     ]
    }
   ],
   "source": [
    "b += 1\n",
    "print(\"after we change b, a is b?\",a is b)\n",
    "print(a)\n",
    "print(b)"
   ]
  },
  {
   "cell_type": "code",
   "execution_count": 11,
   "id": "672207cd-27cc-4d5b-a3b8-19f1a06c112f",
   "metadata": {},
   "outputs": [
    {
     "name": "stdout",
     "output_type": "stream",
     "text": [
      "True\n",
      "after we change b, a is b? False\n",
      "2\n",
      "1\n"
     ]
    }
   ],
   "source": [
    "a = 1\n",
    "b = a\n",
    "print(a is b)\n",
    "a = 2\n",
    "print(\"after we change b, a is b?\",a is b)\n",
    "print(a)\n",
    "print(b)"
   ]
  },
  {
   "cell_type": "code",
   "execution_count": 12,
   "id": "ad4fa70d-81e5-4d1b-b463-7bf2c9eb6026",
   "metadata": {},
   "outputs": [
    {
     "name": "stdout",
     "output_type": "stream",
     "text": [
      "True\n",
      "False\n"
     ]
    }
   ],
   "source": [
    "a = [1,2,3]\n",
    "b = [1,2,3]\n",
    "print(a == b)\n",
    "print(a is b)"
   ]
  },
  {
   "cell_type": "code",
   "execution_count": 13,
   "id": "621712c5-54fc-4c49-a710-129c449bc742",
   "metadata": {},
   "outputs": [
    {
     "name": "stdout",
     "output_type": "stream",
     "text": [
      "True\n",
      "True\n"
     ]
    }
   ],
   "source": [
    "a = [1,2,3]\n",
    "b = a\n",
    "print(a == b)\n",
    "print(a is b)"
   ]
  },
  {
   "cell_type": "code",
   "execution_count": 14,
   "id": "b1bdee53-c81a-460d-bbc2-acb49f0fc0f1",
   "metadata": {},
   "outputs": [
    {
     "name": "stdout",
     "output_type": "stream",
     "text": [
      "[0, 2, 3]\n"
     ]
    }
   ],
   "source": [
    "a[0] = 0\n",
    "print(a)"
   ]
  },
  {
   "cell_type": "code",
   "execution_count": 15,
   "id": "7d73a1f4-b9c6-4e3d-9244-cf04ffcc7783",
   "metadata": {},
   "outputs": [
    {
     "name": "stdout",
     "output_type": "stream",
     "text": [
      "[0, 2, 3]\n",
      "True\n",
      "True\n"
     ]
    }
   ],
   "source": [
    "print(b)\n",
    "print(a == b)\n",
    "print(a is b)"
   ]
  },
  {
   "cell_type": "code",
   "execution_count": 16,
   "id": "41f7c9b1-81f9-4b5d-b9fb-25f793ee073f",
   "metadata": {},
   "outputs": [
    {
     "name": "stdout",
     "output_type": "stream",
     "text": [
      "[0, 2, 3]\n",
      "[0, 2, 3]\n",
      "True\n",
      "True\n"
     ]
    }
   ],
   "source": [
    "a = [1,2,3]\n",
    "b = a\n",
    "b[0] = 0\n",
    "print(a)\n",
    "print(b)\n",
    "print(a == b)\n",
    "print(a is b )"
   ]
  },
  {
   "cell_type": "code",
   "execution_count": 17,
   "id": "38b849cc-97b2-4fcb-a644-f8d5e5647038",
   "metadata": {},
   "outputs": [
    {
     "name": "stdout",
     "output_type": "stream",
     "text": [
      "1 2 3 4 5\n"
     ]
    }
   ],
   "source": [
    "#print()\n",
    "#print(*objects, sep=' ', end='\\n')\n",
    "print(1,2,3,4,5)"
   ]
  },
  {
   "cell_type": "code",
   "execution_count": 18,
   "id": "7aa6aac3-7d43-491a-a83d-126d9f21cd99",
   "metadata": {},
   "outputs": [
    {
     "name": "stdout",
     "output_type": "stream",
     "text": [
      "12345"
     ]
    }
   ],
   "source": [
    "print(1,2,3,4,5,sep='',end='')"
   ]
  },
  {
   "cell_type": "code",
   "execution_count": 19,
   "id": "c3ef16a0-e503-4672-a55c-c65a0f08377f",
   "metadata": {},
   "outputs": [
    {
     "name": "stdout",
     "output_type": "stream",
     "text": [
      "1 & 2 & 3 & 4 & 5"
     ]
    }
   ],
   "source": [
    "print(1,2,3,4,5,sep=' & ',end='')"
   ]
  },
  {
   "cell_type": "code",
   "execution_count": 20,
   "id": "0b3a02c1-1197-4a9f-8724-d4efc804d5e9",
   "metadata": {},
   "outputs": [
    {
     "name": "stdout",
     "output_type": "stream",
     "text": [
      "1\n",
      "2\n",
      "3\n",
      "4\n",
      "5\n"
     ]
    }
   ],
   "source": [
    "print(1,2,3,4,5,sep='\\n') "
   ]
  },
  {
   "cell_type": "code",
   "execution_count": 21,
   "id": "faa15ee3-58ae-48fc-907d-a5ee342711ab",
   "metadata": {},
   "outputs": [
    {
     "name": "stdout",
     "output_type": "stream",
     "text": [
      "1\t2\t3\t4\t5\n"
     ]
    }
   ],
   "source": [
    "print(1,2,3,4,5,sep='\\t')"
   ]
  },
  {
   "cell_type": "code",
   "execution_count": 22,
   "id": "cb2e41c5-a3d5-439b-8339-a3dd7c2eefb0",
   "metadata": {},
   "outputs": [
    {
     "name": "stdout",
     "output_type": "stream",
     "text": [
      "\\t \\n\n"
     ]
    }
   ],
   "source": [
    "print(\"\\\\t \\\\n\")"
   ]
  },
  {
   "cell_type": "code",
   "execution_count": 23,
   "id": "1693ca11-1701-4406-9615-27cb36addfa5",
   "metadata": {},
   "outputs": [
    {
     "name": "stdout",
     "output_type": "stream",
     "text": [
      "3.141592653589793\n",
      "<class 'float'>\n",
      "3\n",
      "3\n",
      "3.14159\n",
      "3.141592653589793\n"
     ]
    }
   ],
   "source": [
    "# formatted output\n",
    "from math import pi\n",
    "a = pi\n",
    "print(a)\n",
    "print(type(a))\n",
    "print('%i'%a)\n",
    "print('%d'%a)\n",
    "print('%.5f'%a)\n",
    "print('%s'%a)"
   ]
  },
  {
   "cell_type": "code",
   "execution_count": 24,
   "id": "7ee576a7-150d-43c8-a51e-910b27af5d4c",
   "metadata": {},
   "outputs": [
    {
     "name": "stdout",
     "output_type": "stream",
     "text": [
      "    8848\n"
     ]
    }
   ],
   "source": [
    "a = 8848\n",
    "print(\"%8d\"%a)"
   ]
  },
  {
   "cell_type": "code",
   "execution_count": 25,
   "id": "84ac5ead-2b84-4143-b1b4-5fa235e731f2",
   "metadata": {},
   "outputs": [
    {
     "name": "stdout",
     "output_type": "stream",
     "text": [
      "8848    \n"
     ]
    }
   ],
   "source": [
    "print(\"%-8d\"%a)"
   ]
  },
  {
   "cell_type": "code",
   "execution_count": 26,
   "id": "1b33910c-f8d8-44cb-aa78-436894824a4c",
   "metadata": {},
   "outputs": [
    {
     "name": "stdout",
     "output_type": "stream",
     "text": [
      "  3.1416\n"
     ]
    }
   ],
   "source": [
    "print(\"%8.4f\"%pi)"
   ]
  },
  {
   "cell_type": "code",
   "execution_count": 27,
   "id": "124fcefa-96df-43a4-a4bd-2fb501f05055",
   "metadata": {},
   "outputs": [
    {
     "name": "stdout",
     "output_type": "stream",
     "text": [
      "a       b       a**b    \n",
      "1       2       1       \n",
      "2       3       8       \n",
      "3       4       81      \n",
      "4       5       1024    \n",
      "5       6       15625   \n"
     ]
    }
   ],
   "source": [
    "#ex1 print a table\n",
    "#Use formatted output of print function\n",
    "print('%-8s%-8s%-8s'%('a','b','a**b'))\n",
    "print('%-8d%-8d%-8d'%(1,2,1**2))\n",
    "print('%-8d%-8d%-8d'%(2,3,2**3))\n",
    "print('%-8d%-8d%-8d'%(3,4,3**4))\n",
    "print('%-8d%-8d%-8d'%(4,5,4**5))\n",
    "print('%-8d%-8d%-8d'%(5,6,5**6))"
   ]
  },
  {
   "cell_type": "code",
   "execution_count": 28,
   "id": "298b31ee-bc3b-48d6-a33b-fbc6c7b2c0a3",
   "metadata": {},
   "outputs": [
    {
     "name": "stdout",
     "output_type": "stream",
     "text": [
      "2\n"
     ]
    }
   ],
   "source": [
    "#Arithemetic Operators\n",
    "x = 1\n",
    "x += 1\n",
    "print(x)"
   ]
  },
  {
   "cell_type": "code",
   "execution_count": 29,
   "id": "8b2b5487-7205-440d-9d9b-648f8950017a",
   "metadata": {},
   "outputs": [
    {
     "data": {
      "text/plain": [
       "1"
      ]
     },
     "execution_count": 29,
     "metadata": {},
     "output_type": "execute_result"
    }
   ],
   "source": [
    "9%4"
   ]
  },
  {
   "cell_type": "code",
   "execution_count": 30,
   "id": "45a2c609-f0fd-4d1d-9551-91eb2871a6dd",
   "metadata": {},
   "outputs": [
    {
     "data": {
      "text/plain": [
       "3"
      ]
     },
     "execution_count": 30,
     "metadata": {},
     "output_type": "execute_result"
    }
   ],
   "source": [
    "-9%4"
   ]
  },
  {
   "cell_type": "code",
   "execution_count": 31,
   "id": "7d896f6d-9eb4-4c44-844a-5b5b182cd63a",
   "metadata": {},
   "outputs": [
    {
     "data": {
      "text/plain": [
       "-3"
      ]
     },
     "execution_count": 31,
     "metadata": {},
     "output_type": "execute_result"
    }
   ],
   "source": [
    "9%-4"
   ]
  },
  {
   "cell_type": "code",
   "execution_count": 32,
   "id": "0c2f8b44-0e25-45fa-b5aa-4c7ccf2fc5e0",
   "metadata": {},
   "outputs": [
    {
     "data": {
      "text/plain": [
       "2.0"
      ]
     },
     "execution_count": 32,
     "metadata": {},
     "output_type": "execute_result"
    }
   ],
   "source": [
    "2/1"
   ]
  },
  {
   "cell_type": "code",
   "execution_count": 33,
   "id": "8229f68a-7983-4296-9c21-460e10fb2ef3",
   "metadata": {},
   "outputs": [
    {
     "data": {
      "text/plain": [
       "2.0"
      ]
     },
     "execution_count": 33,
     "metadata": {},
     "output_type": "execute_result"
    }
   ],
   "source": [
    "12/4 - 3 + 2"
   ]
  },
  {
   "cell_type": "code",
   "execution_count": 34,
   "id": "2d79c7c3-d35a-4414-a0e2-a5c9fe958598",
   "metadata": {},
   "outputs": [
    {
     "data": {
      "text/plain": [
       "3.0"
      ]
     },
     "execution_count": 34,
     "metadata": {},
     "output_type": "execute_result"
    }
   ],
   "source": [
    "3.5-0.5"
   ]
  },
  {
   "cell_type": "code",
   "execution_count": 35,
   "id": "1d1108de-6aa4-45e9-860c-449831e0a8ca",
   "metadata": {},
   "outputs": [
    {
     "name": "stdout",
     "output_type": "stream",
     "text": [
      "123\n",
      "<class 'int'>\n",
      "(1, 5, '1+2+3')\n",
      "<class 'tuple'>\n"
     ]
    }
   ],
   "source": [
    "# eval()\n",
    "a = eval(\"123\")\n",
    "print(a)\n",
    "print(type(a))\n",
    "\n",
    "b = eval(\"1,2+3,'1+2+3'\")\n",
    "print(b)\n",
    "print(type(b))"
   ]
  },
  {
   "cell_type": "code",
   "execution_count": 37,
   "id": "adbdfe50-9b0c-455d-84cd-2c0e7cd282ce",
   "metadata": {},
   "outputs": [
    {
     "name": "stdin",
     "output_type": "stream",
     "text": [
      "please enter something: 123\n"
     ]
    },
    {
     "name": "stdout",
     "output_type": "stream",
     "text": [
      "123\n",
      "<class 'int'>\n"
     ]
    }
   ],
   "source": [
    "#eval() with input()\n",
    "b = eval(input(\"please enter something:\"))\n",
    "print(b)\n",
    "print(type(b))"
   ]
  },
  {
   "cell_type": "code",
   "execution_count": 38,
   "id": "ca1e92a2-5795-4664-a224-82414f3f47b6",
   "metadata": {},
   "outputs": [
    {
     "name": "stdout",
     "output_type": "stream",
     "text": [
      "21 \n",
      "441 \n",
      "4\n"
     ]
    }
   ],
   "source": [
    "#eval(expression)\n",
    "a = eval(\"3*7\")\n",
    "b = eval(\"a**2\")\n",
    "c = eval(\"pow(2,2)\")\n",
    "print(\"%i \\n%i \\n%i\"%(a,b,c))"
   ]
  },
  {
   "cell_type": "code",
   "execution_count": 39,
   "id": "69bab112-2418-42e5-8bff-8896230a9ded",
   "metadata": {},
   "outputs": [
    {
     "name": "stdout",
     "output_type": "stream",
     "text": [
      "12\t<class 'str'>\n",
      "3\t<class 'int'>\n"
     ]
    }
   ],
   "source": [
    "#eval(expression)\n",
    "a = eval(\"'1'+'2'\")\n",
    "b = eval(\"1+2\")\n",
    "print(\"%s\\t%s\\n%i\\t%s\"%(a,type(a),b,type(b)))"
   ]
  },
  {
   "cell_type": "code",
   "execution_count": 40,
   "id": "53261a7e-d95b-4a8e-b55b-b6fa9116a973",
   "metadata": {},
   "outputs": [
    {
     "data": {
      "text/plain": [
       "9"
      ]
     },
     "execution_count": 40,
     "metadata": {},
     "output_type": "execute_result"
    }
   ],
   "source": [
    "int(9.999)"
   ]
  },
  {
   "cell_type": "code",
   "execution_count": 42,
   "id": "2f7fb12e-468c-4420-ba26-972570a562a6",
   "metadata": {},
   "outputs": [
    {
     "name": "stdin",
     "output_type": "stream",
     "text": [
      "input: 123\n"
     ]
    },
    {
     "name": "stdout",
     "output_type": "stream",
     "text": [
      "1\n"
     ]
    }
   ],
   "source": [
    "a = input(\"input:\")\n",
    "b = eval(a[0])\n",
    "print(b)"
   ]
  },
  {
   "cell_type": "code",
   "execution_count": 43,
   "id": "77af8575-684b-4999-b9c8-81ecbf119a9d",
   "metadata": {},
   "outputs": [
    {
     "name": "stdout",
     "output_type": "stream",
     "text": [
      "1.0\n"
     ]
    }
   ],
   "source": [
    "a = 1.0\n",
    "print(\"%s\"%a)"
   ]
  },
  {
   "cell_type": "code",
   "execution_count": null,
   "id": "b4b0e883-76e2-4ea2-81f2-c861ba4c9dc0",
   "metadata": {},
   "outputs": [],
   "source": []
  }
 ],
 "metadata": {
  "kernelspec": {
   "display_name": "Python 3 (ipykernel)",
   "language": "python",
   "name": "python3"
  },
  "language_info": {
   "codemirror_mode": {
    "name": "ipython",
    "version": 3
   },
   "file_extension": ".py",
   "mimetype": "text/x-python",
   "name": "python",
   "nbconvert_exporter": "python",
   "pygments_lexer": "ipython3",
   "version": "3.9.13"
  }
 },
 "nbformat": 4,
 "nbformat_minor": 5
}
