{
  "nbformat": 4,
  "nbformat_minor": 0,
  "metadata": {
    "colab": {
      "provenance": []
    },
    "kernelspec": {
      "name": "python3",
      "display_name": "Python 3"
    },
    "language_info": {
      "name": "python"
    }
  },
  "cells": [
    {
      "cell_type": "markdown",
      "source": [
        "# **CSC1001 Tutorial 10**\n",
        "## Algorithm Analysis\n",
        "\n",
        "Frederick Khasanto (122040014)\n",
        "\n",
        "16 November 2023"
      ],
      "metadata": {
        "id": "uH-n4HiMiiyy"
      }
    },
    {
      "cell_type": "markdown",
      "source": [
        "## Primitive operations\n",
        "---> $O(1)$\n",
        "- Assigning a variable to an object (`a = 5`)\n",
        "- Determining the object associated with a variable (`b = a + 5`)\n",
        "- Performing an arithmetic operation (`+,-,*,/,%`)\n",
        "- Comparing two numbers (`a > b`)\n",
        "- Accessing an element in array/list by index (`b = a[1]`)\n",
        "- Calling a function (`func()`)\n",
        "- Returning from a function (`return`)"
      ],
      "metadata": {
        "id": "UHVaWuP8noLI"
      }
    },
    {
      "cell_type": "markdown",
      "source": [
        "## Big-Oh Notation\n",
        "### Definition\n",
        "\n",
        "$f(n) = O(g(n))$ if $f(n) \\le cg(n)$ for $n \\ge n_0$\n",
        "\n",
        "\n",
        "### Order\n",
        "\n",
        "$c < log n < n < n log n < n^2 < n^3 < a^n$\n",
        "---\n",
        "### Rules\n",
        "1. Polynomial Rule --> *Biggest power eats all*\n",
        "\n",
        "    If $g(n)$ is a non-negative polynomial of highest degree $d$, then $g(n) = O(n^d)$\n",
        "\n",
        "    e.g., $7n^4+5n^3+3n^2 = O(n^4)$\n",
        "\n",
        "<br>\n",
        "\n",
        "2. Product rule --> *Big multiplies the big*\n",
        "\n",
        "    $g_1(n) = O(f_1(n)),  g_2(n) = O(f_2(n))$\n",
        "\n",
        "    then, $g_1(n).g_2(n) = O(f_1(n).f_2(n))$\n",
        "\n",
        "    e.g., $(n^5+n^2+1)(n^4+n^{13}+n^2)=O(n^{18})$\n",
        "\n",
        "<br>\n",
        "\n",
        "3. Sum rule --> *Biggest of the two big*\n",
        "\n",
        "    $g_1(n) = O(f_1(n)),  g_2(n) = O(f_2(n))$\n",
        "\n",
        "    then, $g_1(n)+g_2(n) = O(max(f_1(n),f_2(n)))$\n",
        "\n",
        "    e.g., $g(n) = (5n^3+3n) + (7n^4 + 2n^5) = O(max(n^3,n^5)) = O(n^5)$\n",
        "\n",
        "<br>\n",
        "\n",
        "4. Log rule --> *Log only beats constant*\n",
        "\n",
        "    e.g., $g(n) = (\\log n)^2 + n^{0.0001} = O(n^{0.0001})$\n",
        "\n",
        "<br>\n",
        "\n",
        "5. Exponential rule --> *Exponential beats powers*\n",
        "\n",
        "    $g(n) = a^n + n^b, \\text{ where } a>1 \\Rightarrow g(n) = O(a^n)$\n",
        "\n",
        "    $g(n) = a^n + b^n, \\text{ where } a>b>1 \\Rightarrow g(n) = O(a^n)$\n",
        "\n",
        "    e.g., $g(n) = 2^n + n^{2} = O(2^n)$\n",
        "    \n",
        "    $\\hspace{2em} g(n) = 2^n + 5^n = O(5^n)$"
      ],
      "metadata": {
        "id": "Yx79vct1p6BD"
      }
    },
    {
      "cell_type": "markdown",
      "source": [
        "## Questions"
      ],
      "metadata": {
        "id": "S_2YwMFIKNAA"
      }
    },
    {
      "cell_type": "markdown",
      "source": [
        "### Q1: Verify $8n\\log n$ better than $2n^2$\n",
        "The number of operations executed by algorithms $A$ and $B$ is $8n\\log n$ and $2n^2$, respectively. Determine $n_0$ such that $A$ is better than $B$ for $n \\ge n_0$\n",
        "\n",
        "Find the intersection between the two functions. They meet at $n=n_0$.\n",
        "\n",
        "$8n_0 \\log_2 n_0 = 2{n_0}^2$\n",
        "\n",
        "$\\log_2 n_0 = \\frac 1 4 n_0$\n",
        "\n",
        "$n_0 = 16$\n",
        "\n",
        "For $n \\ge 16, 8n\\log n \\lt 2n^2$.\n",
        "\n",
        "<br>"
      ],
      "metadata": {
        "id": "MRsy8JImKQkX"
      }
    },
    {
      "cell_type": "markdown",
      "source": [
        "### Q2: Verify $40n^2$ better than $2n^3$\n",
        "The number of operations executed by algorithms $A$ and $B$ is $40n^2$ and $2n^3$, respectively. Determine $n_0$ such that $A$ is better than $B$ for $n \\ge n_0$\n",
        "\n",
        "Find the intersection between the two functions. They meet at $n=n_0$.\n",
        "\n",
        "$40{n_0}^2 = 2{n_0}^3$\n",
        "\n",
        "$n_0 = 20$\n",
        "\n",
        "For $n \\ge 20, 40n^2 \\lt 2n^3$.\n",
        "\n",
        "<br>"
      ],
      "metadata": {
        "id": "ObSO4JM_Lv-f"
      }
    },
    {
      "cell_type": "markdown",
      "source": [
        "### Q3: Ordering function asymptotically\n",
        "\n",
        "Best to worst:\n",
        "\n",
        "$2^{\\log n}, 2^{10}, 4n, 3n+100\\log n, n \\log n, 4n\\log n+2n, n^2+10n, n^3, 2^n$\n",
        "\n",
        "<br>"
      ],
      "metadata": {
        "id": "Ohw2k5m-MWD4"
      }
    },
    {
      "cell_type": "markdown",
      "source": [
        "### Q4: Prove Big-Oh of a function\n",
        "i) Show that $8n+5$ is $O(n)$\n",
        "\n",
        "$8n+5\\le cn$  for $n\\ge n_0$\n",
        "\n",
        "Let $c=9$, $8n+5\\le 9n \\Rightarrow n \\ge 5$\n",
        "\n",
        "Therefore, $8n+5 = O(n)$\n",
        "\n",
        "<br>\n",
        "\n",
        "ii) Show that $5n^4+3n^3+2n^2+4n+1$ is $O(n^4)$\n",
        "\n",
        "$5n^4+3n^3+2n^2+4n+1 \\le cn^4$  for $n\\ge n_0$\n",
        "\n",
        "Since $n^3, n^2, n^1, n^0 \\le n^4$ for all $n\\ge 1$, then\n",
        "\n",
        "$LHS \\le 5n^4+3n^4+2n^4+4n^4+n^4 = 15n^4$\n",
        "\n",
        "Let $c=15$, $LHS \\le cn^4$ for all $n\\ge 1$\n",
        "\n",
        "Therefore, $5n^4+3n^3+2n^2+4n+1 = O(n^4)$\n",
        "\n",
        "<br>\n",
        "\n",
        "\n",
        "iii) Show that $5n^2+3n\\log n+2n+5$ is $O(n^2)$\n",
        "\n",
        "Since $\\log n \\le n$ for all $n\\ge 1$, then\n",
        "\n",
        "$LHS \\le 5n^2+3n*n+2n^2+5n^2 = 15n^2$\n",
        "\n",
        "Let $c=15$, $LHS \\le cn^2$ for all $n\\ge 1$\n",
        "\n",
        "Therefore, $5n^2+3n\\log n+2n+5 = O(n^2)$\n",
        "\n",
        "<br>\n",
        "\n",
        "iv) Show that $16n\\log n+n$ is $O(n\\log n)$\n",
        "\n",
        "Since $n \\le n\\log n$ for all $n \\ge 2$\n",
        "\n",
        "$16 n\\log n + n \\le 16 n\\log n + n\\log n = 17 n\\log n$\n",
        "\n",
        "Let $c=17$, $LHS \\le cn\\log n$ for all $n \\ge 2$\n",
        "\n",
        "Therefore, $16n\\log n+n = O(n\\log n)$\n",
        "\n",
        "<br>"
      ],
      "metadata": {
        "id": "YZzBeuw8N_7Z"
      }
    },
    {
      "cell_type": "markdown",
      "source": [
        "### Q5: Time Complexity\n",
        "What is the time complexity of `fun(n)`?"
      ],
      "metadata": {
        "id": "TQGsfM9c2Z6T"
      }
    },
    {
      "cell_type": "code",
      "execution_count": null,
      "metadata": {
        "id": "9aYgVILOhYU4",
        "colab": {
          "base_uri": "https://localhost:8080/"
        },
        "outputId": "53701e95-12ba-4528-a960-e1c3a00b6919"
      },
      "outputs": [
        {
          "output_type": "stream",
          "name": "stdout",
          "text": [
            "i is 10, j is 0\n",
            "i is 10, j is 1\n",
            "i is 10, j is 2\n",
            "i is 10, j is 3\n",
            "i is 10, j is 4\n",
            "i is 10, j is 5\n",
            "i is 10, j is 6\n",
            "i is 10, j is 7\n",
            "i is 10, j is 8\n",
            "i is 10, j is 9\n",
            "i is 5, j is 0\n",
            "i is 5, j is 1\n",
            "i is 5, j is 2\n",
            "i is 5, j is 3\n",
            "i is 5, j is 4\n",
            "15\n"
          ]
        },
        {
          "output_type": "execute_result",
          "data": {
            "text/plain": [
              "15"
            ]
          },
          "metadata": {},
          "execution_count": 1
        }
      ],
      "source": [
        "def fun(n):\n",
        "    count = 0\n",
        "    m = n//2\n",
        "    for i in range(n, 0, -m):\n",
        "        m=m//2\n",
        "        for j in range(0, i, 1):\n",
        "            print('i is %d, j is %d'%(i, j))\n",
        "            count += 1\n",
        "    print(count)\n",
        "    return count\n",
        "\n",
        "# Try running with n = 10, 100, 1000 and see the final printed result\n",
        "fun(10)"
      ]
    },
    {
      "cell_type": "markdown",
      "source": [
        "----> $O(n)$\n",
        "\n",
        "<br>"
      ],
      "metadata": {
        "id": "fanvemGV2h_3"
      }
    },
    {
      "cell_type": "markdown",
      "source": [
        "### Q6: Time Complexity\n",
        "i) What is the functionality of the function `product()`?\n",
        "\n",
        "ii) What is the time complexity of this function?"
      ],
      "metadata": {
        "id": "YzdrmkBl1ff6"
      }
    },
    {
      "cell_type": "code",
      "source": [
        "def product(n, m, count):\n",
        "    if n==0:\n",
        "        count+=1\n",
        "        print('Count is: ', count)\n",
        "        return 0\n",
        "    elif n==1:\n",
        "        print('Count is: ', count)\n",
        "        count+=1\n",
        "        return m\n",
        "    else:\n",
        "        if n%2==1:\n",
        "            count+=1\n",
        "            print('n is: ',n)\n",
        "            return product(n//2, m, count)*2+m  # Input is divided by 2 every time the function is called.\n",
        "        else:\n",
        "            count+=1\n",
        "            print('n is: ',n)\n",
        "            return product(n//2, m, count)*2\n",
        "\n",
        "print('Product is: ',product(8,4,0))\n",
        "print('Product is: ',product(64,4,0))\n",
        "print('Product is: ',product(256,4,0))\n"
      ],
      "metadata": {
        "colab": {
          "base_uri": "https://localhost:8080/"
        },
        "id": "1zup-jSKGwOP",
        "outputId": "801cf9ca-da85-45b2-92fb-ab29b57a9f82"
      },
      "execution_count": null,
      "outputs": [
        {
          "output_type": "stream",
          "name": "stdout",
          "text": [
            "n is:  8\n",
            "n is:  4\n",
            "n is:  2\n",
            "Count is:  3\n",
            "Prodcut is:  32\n",
            "n is:  64\n",
            "n is:  32\n",
            "n is:  16\n",
            "n is:  8\n",
            "n is:  4\n",
            "n is:  2\n",
            "Count is:  6\n",
            "Prodcut is:  256\n",
            "n is:  256\n",
            "n is:  128\n",
            "n is:  64\n",
            "n is:  32\n",
            "n is:  16\n",
            "n is:  8\n",
            "n is:  4\n",
            "n is:  2\n",
            "Count is:  8\n",
            "Prodcut is:  1024\n"
          ]
        }
      ]
    },
    {
      "cell_type": "markdown",
      "source": [
        "i) The functionality of the function `product(n,m)` is to calculate the product of $n$ and $m$, that is $n*m$.\n",
        "\n",
        "ii) The time complexity of this function is $O(\\log n)$."
      ],
      "metadata": {
        "id": "YHKdp9q1121Q"
      }
    }
  ]
}