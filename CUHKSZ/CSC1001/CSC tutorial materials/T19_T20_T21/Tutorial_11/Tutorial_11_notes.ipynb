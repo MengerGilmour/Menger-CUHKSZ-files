{
  "nbformat": 4,
  "nbformat_minor": 0,
  "metadata": {
    "colab": {
      "provenance": []
    },
    "kernelspec": {
      "name": "python3",
      "display_name": "Python 3"
    },
    "language_info": {
      "name": "python"
    }
  },
  "cells": [
    {
      "cell_type": "markdown",
      "source": [
        "# **CSC1001 Tutorial 11**\n",
        "## Recursion\n",
        "\n",
        "Frederick Khasanto (122040014)\n",
        "\n",
        "16 November 2023"
      ],
      "metadata": {
        "id": "kweaxfWszdVy"
      }
    },
    {
      "cell_type": "markdown",
      "source": [
        "## Definition\n",
        "A technique where a function makes one or more calls of itself during execution\n",
        "\n",
        "## Structure\n",
        "1. Base case\n",
        "2. Original problem\n",
        "3. Subproblem"
      ],
      "metadata": {
        "id": "Nfi6lc6tznMU"
      }
    },
    {
      "cell_type": "markdown",
      "source": [
        "### Factorial\n",
        "\n",
        "$n! = \\begin{cases}1 & \\text{if } n=0\\\\n(n-1)...2.1 & \\text{if } n\\ge1\\end{cases}$\n",
        "\n",
        "--- Recursive Definition\n",
        "\n",
        "$n! = \\begin{cases}1 & \\text{if } n=0\\\\n(n-1)! & \\text{if } n\\ge1\\end{cases}$"
      ],
      "metadata": {
        "id": "7odlyp0yzu3y"
      }
    },
    {
      "cell_type": "code",
      "execution_count": 1,
      "metadata": {
        "colab": {
          "base_uri": "https://localhost:8080/"
        },
        "id": "tyUaptuzzKsX",
        "outputId": "e4d8b134-08b7-4120-de04-75e14db90307"
      },
      "outputs": [
        {
          "output_type": "stream",
          "name": "stdout",
          "text": [
            "120\n"
          ]
        }
      ],
      "source": [
        "# Factorial\n",
        "def fact(n):\n",
        "  if n == 0:\n",
        "    return 1\n",
        "  else:\n",
        "    return n*fact(n-1)\n",
        "\n",
        "print(fact(5))"
      ]
    },
    {
      "cell_type": "markdown",
      "source": [
        "## Recursive Call Tree\n",
        "\n",
        "Consists of boxes and directed edges.\n",
        "\n",
        "Each box represents a function call and is labeled with the name of the function and the actual argument passed to the function when it was called.\n",
        "\n",
        "Directed edges between the boxes indicate the flow of execution\n",
        "- Solid edges (-----) indicate the function from which a call originated.\n",
        "- Dashed edges (- - -) indicate function returns and are labeled with the **return value** if a value is returned to the caller.\n",
        "\n",
        "The edges are listed **left to right** in the order the calls are made."
      ],
      "metadata": {
        "id": "ZdOFdL36zyJU"
      }
    },
    {
      "cell_type": "markdown",
      "source": [
        "## Practice Questions\n",
        "* For recursive call trees, please check the PDF titled \"RecursiveCallTree-Tutorial 11.pdf\" in the Onedrive folder."
      ],
      "metadata": {
        "id": "8XB8VYhZz0Vk"
      }
    },
    {
      "cell_type": "markdown",
      "source": [
        "### Q1: Number system conversion\n",
        "i) Write a program that define a recursive function `def conv(n, base)` that can print out the binary (base=2) or octal (base=8) version of the decimal number n.\n",
        "ii) Modify the program a little bit to provide a way for solving problem Q2 in Assignment 1. What about the reverse order?"
      ],
      "metadata": {
        "id": "_A1EbAVxz1wk"
      }
    },
    {
      "cell_type": "code",
      "source": [
        "# i) NumberConversion\n",
        "def conv(n,base):\n",
        "    if n//base==0:\n",
        "        print(n,end='')\n",
        "    else:\n",
        "        conv(n//base,base)\n",
        "        print(n%base,end='')\n",
        "\n",
        "print('In binary system，12=')\n",
        "conv(12,2)    #should be 1100\n",
        "print()\n",
        "print('In octal system，20=')\n",
        "conv(20,8)    #should be 24"
      ],
      "metadata": {
        "colab": {
          "base_uri": "https://localhost:8080/"
        },
        "id": "TVlQFbD4z6F-",
        "outputId": "6294a0f0-281a-4cfd-aeac-185b01de83c6"
      },
      "execution_count": 2,
      "outputs": [
        {
          "output_type": "stream",
          "name": "stdout",
          "text": [
            "In binary system，12=\n",
            "1100\n",
            "In octal system，20=\n",
            "24"
          ]
        }
      ]
    },
    {
      "cell_type": "code",
      "source": [
        "# ii) PrintDigit\n",
        "def PrintDigit(n):\n",
        "    if n//10==0:\n",
        "        print(n)\n",
        "    else:\n",
        "        PrintDigit(n//10)\n",
        "        print(n%10)\n",
        "\n",
        "PrintDigit(3125)"
      ],
      "metadata": {
        "colab": {
          "base_uri": "https://localhost:8080/"
        },
        "id": "JWJtBSxYz7ox",
        "outputId": "fba3860e-1f67-4d71-a9e8-04ee7dae8729"
      },
      "execution_count": 3,
      "outputs": [
        {
          "output_type": "stream",
          "name": "stdout",
          "text": [
            "3\n",
            "1\n",
            "2\n",
            "5\n"
          ]
        }
      ]
    },
    {
      "cell_type": "code",
      "source": [
        "# ii) PrintDigit reverse\n",
        "def PrintDigit(n):\n",
        "    if n//10==0:\n",
        "        print(n)\n",
        "    else:\n",
        "        print(n%10)\n",
        "        PrintDigit(n//10)\n",
        "\n",
        "PrintDigit(3125)"
      ],
      "metadata": {
        "colab": {
          "base_uri": "https://localhost:8080/"
        },
        "id": "h31xc9l8z8lv",
        "outputId": "79409439-31eb-4baa-e371-9a9e4413196c"
      },
      "execution_count": 4,
      "outputs": [
        {
          "output_type": "stream",
          "name": "stdout",
          "text": [
            "5\n",
            "2\n",
            "1\n",
            "3\n"
          ]
        }
      ]
    },
    {
      "cell_type": "markdown",
      "source": [
        "### Q2: Permutations of a string\n",
        "Write a recursive program to print out all the possible pemutations given a string with distinct characters."
      ],
      "metadata": {
        "id": "wE41UoYLz97J"
      }
    },
    {
      "cell_type": "code",
      "source": [
        "#uses a loop to move a character from s2 to s1 and\n",
        "#recursively invokes it with a new s1 and s2.\n",
        "#The base case is that s2 is empty and prints s1 to the console.\n",
        "def displayPermutationHelper(s1,s2):\n",
        "    if s2 == \"\":\n",
        "        print(s1)\n",
        "    else:\n",
        "        for i in s2:\n",
        "            index=s2.index(i)\n",
        "            displayPermutationHelper(s1+i,s2[:index]+s2[index+1:])\n",
        "\n",
        "def displayPermutation(s):\n",
        "    displayPermutationHelper(\"\",s)\n",
        "\n",
        "def main():\n",
        "    s=input(\"Enter a string:\")\n",
        "    displayPermutation(s)\n",
        "\n",
        "main()"
      ],
      "metadata": {
        "colab": {
          "base_uri": "https://localhost:8080/"
        },
        "id": "r4qjh1Ao0Pn-",
        "outputId": "b4f11d7c-09f9-43bf-841a-62ba1d862cc0"
      },
      "execution_count": 5,
      "outputs": [
        {
          "output_type": "stream",
          "name": "stdout",
          "text": [
            "Enter a string:abc\n",
            "abc\n",
            "acb\n",
            "bac\n",
            "bca\n",
            "cab\n",
            "cba\n"
          ]
        }
      ]
    },
    {
      "cell_type": "markdown",
      "source": [
        "### Q3: Judge Palindrome\n",
        "Write a recursive program to define a function to judge whether it is a palindrome or not. If a string is equal to its reverse, then it is a palindrome. For example, \"*level*\" and \"*madam*\" are palindromes."
      ],
      "metadata": {
        "id": "6M74qvsA0Rii"
      }
    },
    {
      "cell_type": "code",
      "source": [
        "def check(string):\n",
        "    if string=='':\n",
        "        return True\n",
        "    elif string[0]==string[len(string)-1] and check(string[1:len(string)-1]):\n",
        "        return True\n",
        "    else:\n",
        "        return False\n",
        "\n",
        "def main():\n",
        "    string=input('Enter a string:')\n",
        "    print(check(string))\n",
        "\n",
        "main()"
      ],
      "metadata": {
        "colab": {
          "base_uri": "https://localhost:8080/"
        },
        "id": "C0knrY340SvT",
        "outputId": "cf608e3a-10d3-4853-a6bc-608896ab6165"
      },
      "execution_count": 6,
      "outputs": [
        {
          "output_type": "stream",
          "name": "stdout",
          "text": [
            "Enter a string:level\n",
            "True\n"
          ]
        }
      ]
    },
    {
      "cell_type": "markdown",
      "source": [
        "### Q4: Rearrange a list\n",
        "Write a recursive algorithm to rearrange a list of integer values so that all the even values appear before all the odd values."
      ],
      "metadata": {
        "id": "FE6-98gV0XIP"
      }
    },
    {
      "cell_type": "code",
      "source": [
        "def rearrange(lst):\n",
        "    if len(lst)==0:\n",
        "        return []\n",
        "    #If the first element is odd,rearrange the sublist after this element,\n",
        "    #and then insert it to position at the end of all even numbers,\n",
        "    #to avoid changing the original order of odd numbers.\n",
        "    elif lst[0]%2==1:\n",
        "        L0=lst[0]\n",
        "        lst=rearrange(lst[1:len(lst)])\n",
        "        index=0\n",
        "        while index<len(lst):\n",
        "            if lst[index]%2==1:\n",
        "                lst.insert(index,L0)\n",
        "                break\n",
        "            index+=1\n",
        "        if index==len(lst):\n",
        "            lst.insert(index,L0)\n",
        "        return lst\n",
        "    else:\n",
        "        lst=[lst[0]]+rearrange(lst[1:len(lst)])\n",
        "        return lst\n",
        "\n",
        "def main():\n",
        "    lst=[1,4,3,2]\n",
        "    print(rearrange(lst))\n",
        "\n",
        "main()"
      ],
      "metadata": {
        "colab": {
          "base_uri": "https://localhost:8080/"
        },
        "id": "BJYttLZr0ZFW",
        "outputId": "ca02cf93-b8b7-44d1-8fec-7c7df1533051"
      },
      "execution_count": 7,
      "outputs": [
        {
          "output_type": "stream",
          "name": "stdout",
          "text": [
            "[4, 2, 1, 3]\n"
          ]
        }
      ]
    },
    {
      "cell_type": "markdown",
      "source": [
        "### Q5: Find all possible subsets\n",
        "Write a recursive algorithm to find all the possible subsets of a list (excluding itself)."
      ],
      "metadata": {
        "id": "xW4m2FG-0bxJ"
      }
    },
    {
      "cell_type": "code",
      "source": [
        "def findSubset(L,T):\n",
        "    if len(L)==0:\n",
        "        return []\n",
        "    for i in range(len(L)):\n",
        "        subset=list()\n",
        "        for element in L:\n",
        "            if element !=L[i]:\n",
        "                #Find all the possible true subsets with only one element excluded\n",
        "                subset.append(element)\n",
        "        if subset not in T:\n",
        "            findSubset(subset,T)\n",
        "            T.append(subset)\n",
        "    return T\n",
        "\n",
        "L=[1,2,3]\n",
        "Output=findSubset(L,[])\n",
        "print(Output)"
      ],
      "metadata": {
        "colab": {
          "base_uri": "https://localhost:8080/"
        },
        "id": "8dfe-aN_0c_x",
        "outputId": "d37213ba-6b2d-481f-ba68-ab7e49d44cd0"
      },
      "execution_count": 8,
      "outputs": [
        {
          "output_type": "stream",
          "name": "stdout",
          "text": [
            "[[], [3], [2], [2, 3], [1], [1, 3], [1, 2]]\n"
          ]
        }
      ]
    },
    {
      "cell_type": "markdown",
      "source": [
        "### Q6: Tic-tac-toe\n",
        "This is the simplest example of how Artificial Intelligence may work. You may explore more if you are interested in this field. Please refer to the codes in the Onedrive folder: `Board.py`, `Player.py`, `6-Game.py`."
      ],
      "metadata": {
        "id": "ifs-qJIC0duD"
      }
    }
  ]
}