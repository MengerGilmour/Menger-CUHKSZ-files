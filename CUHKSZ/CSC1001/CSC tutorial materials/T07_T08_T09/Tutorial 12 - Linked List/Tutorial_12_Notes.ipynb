{
 "cells": [
  {
   "cell_type": "markdown",
   "metadata": {},
   "source": [
    "## CSC1001 Tutorial 12 - Linked List\n",
    "29 November 2023 - Created by Florensia Widjaja (122040013)"
   ]
  },
  {
   "cell_type": "code",
   "execution_count": 85,
   "metadata": {},
   "outputs": [],
   "source": [
    "## Code for the Node Class\n",
    "class Node:\n",
    "    def __init__(self, el):  # define the properties of the node objects\n",
    "        self.element = el\n",
    "        self.pointer = None"
   ]
  },
  {
   "cell_type": "code",
   "execution_count": 88,
   "metadata": {},
   "outputs": [],
   "source": [
    "class singleLinkedList:\n",
    "    def __init__(self):\n",
    "        self.head = None\n",
    "        self.size = 0\n",
    "        self.tail = None\n",
    "    \n",
    "    def __len__(self):\n",
    "        return self.size\n",
    "\n",
    "    def is_empty(self):\n",
    "        return self.size == 0\n",
    "\n",
    "    def insert_head(self, el):\n",
    "        new = Node(el)\n",
    "        self.size += 1\n",
    "        if self.size == 1:  # it is the only node in this linked list\n",
    "            self.tail = new\n",
    "        else:\n",
    "            new.pointer = self.head  # self.head is not None since there exist other nodes\n",
    "        self.head = new\n",
    "        return new\n",
    "    \n",
    "    def insert_tail(self, el):\n",
    "        new = Node(el)\n",
    "        self.size += 1\n",
    "        if self.size == 1:  # this is the first node of the linked list --> self.tail and self.head is None\n",
    "            self.head = new\n",
    "        else:\n",
    "            self.tail.pointer = new  # self.tail is not None since there exist other nodes\n",
    "        self.tail = new\n",
    "        return new\n",
    "    \n",
    "    def delete_head(self):\n",
    "        if self.size == 0:\n",
    "            print(\"the Linked List is empty\")\n",
    "            return None\n",
    "        else:\n",
    "            delete_el = self.head.element\n",
    "            self.size -= 1\n",
    "            if self.size == 0:\n",
    "                self.tail = None\n",
    "            else:\n",
    "                self.head = self.head.pointer\n",
    "\n",
    "            return delete_el\n",
    "    \n",
    "    def iterate(self):\n",
    "        current_node = self.head\n",
    "        # you cannot immediately use the linked list head! otherwise, after finishing iteration, \n",
    "        # you will end up with an empty linked list   \n",
    "        print(\"The elements in the current linked list\")\n",
    "        while current_node is not None:\n",
    "            print(current_node.element, end = ' ')\n",
    "            current_node =current_node.pointer\n",
    "        print()\n",
    "    \n",
    "    # ANOTHER ANSWER VERSION FOR QUESTION 1\n",
    "    def concatenate(self, Mhead):  # M is the other linked list\n",
    "        # remember that the question told us we only have access to L head so imagine L tail doesn't exist\n",
    "        nd = self.head\n",
    "        while nd.next is not None:\n",
    "            nd = nd.next\n",
    "        nd.next = Mhead\n",
    "        return self.head  # return the head reference of this newly concatenated linked list\n",
    "        "
   ]
  },
  {
   "cell_type": "markdown",
   "metadata": {},
   "source": [
    "## Remember! The time complexities:\n",
    "- delete_head = O(1)  # CONSTANT  \n",
    "- insert_head = O(1)  \n",
    "- insert_tail = O(1)    \n",
    "\n",
    "However,\n",
    "**delete_tail = O(n)**  # LINEAR\n"
   ]
  },
  {
   "cell_type": "code",
   "execution_count": 90,
   "metadata": {},
   "outputs": [
    {
     "name": "stdout",
     "output_type": "stream",
     "text": [
      "The elements in the current linked list\n",
      "4 1 2 5 \n"
     ]
    }
   ],
   "source": [
    "# testing the singly linked list code\n",
    "ll = singleLinkedList()\n",
    "ll.insert_head(1)  # 1\n",
    "ll.insert_tail(2)  # 1 2\n",
    "ll.insert_head(4)  # 4 1 2\n",
    "ll.insert_tail(5)  # 4 1 2 5\n",
    "\n",
    "ll.iterate()"
   ]
  },
  {
   "cell_type": "markdown",
   "metadata": {},
   "source": [
    "### Circular Linked List\n",
    "Difference:\n",
    "- we don't necessarily have to make two different head and tail variable because...\n",
    "**head_node = tail_node.pointer**\n",
    "- There is no difference between inserting in the head and the tail\n",
    "- we can only delete from the head"
   ]
  },
  {
   "cell_type": "code",
   "execution_count": 22,
   "metadata": {},
   "outputs": [],
   "source": [
    "class circularLinkedList:\n",
    "    def __init__(self):  # same with Single Linked List (SLList)\n",
    "        self.tail = None\n",
    "        self.size = 0\n",
    "    \n",
    "    def __len__(self):  # same with Single Linked List (SLList)\n",
    "        return self.size\n",
    "\n",
    "    def is_empty(self):  # same with Single Linked List (SLList)\n",
    "        return self.size == 0\n",
    "\n",
    "    def insert(self, el):  # insert from the head and from the tail is equivalent!!!\n",
    "        new = Node(el)\n",
    "        self.size += 1\n",
    "        if self.size == 1:\n",
    "            new.pointer = new  # because new is simultaenously the head and the tail\n",
    "        else:  # make the new node the head node\n",
    "            new.pointer = self.tail.pointer  # new.pointer = head_node\n",
    "            self.tail.pointer = new\n",
    "        self.tail = new\n",
    "        return new\n",
    "    \n",
    "    def delete_head(self):\n",
    "        if self.size == 0:\n",
    "            print(\"The linked list is empty\")\n",
    "        else:\n",
    "            want_to_delete_node = self.tail.pointer\n",
    "            self.size -= 1\n",
    "            if self.size == 0:\n",
    "                self.tail = None\n",
    "            else:\n",
    "                self.tail.pointer = want_to_delete_node.pointer\n",
    "            return want_to_delete_node\n",
    "    \n",
    "    \n",
    "    def iterate(self):\n",
    "        current_head = self.tail.pointer\n",
    "        node = self.tail.pointer\n",
    "        print(\"the current element in the linked list: \")\n",
    "        print(node.element)\n",
    "        node = node.pointer\n",
    "        while node is not current_head:\n",
    "            print(node.element)\n",
    "            node = node.pointer"
   ]
  },
  {
   "cell_type": "code",
   "execution_count": 23,
   "metadata": {},
   "outputs": [
    {
     "name": "stdout",
     "output_type": "stream",
     "text": [
      "Succesfully delete 1\n",
      "the current element in the linked list: \n",
      "2\n",
      "3\n",
      "5\n"
     ]
    }
   ],
   "source": [
    "cl = circularLinkedList()\n",
    "cl.insert(1)\n",
    "cl.insert(2)\n",
    "dellNode = cl.delete_head()\n",
    "print(\"Succesfully delete\", dellNode.element)\n",
    "cl.insert(3)\n",
    "cl.insert(5)\n",
    "cl.iterate()\n"
   ]
  },
  {
   "cell_type": "markdown",
   "metadata": {},
   "source": [
    "## Time complexity:\n",
    "- insert: O(1)\n",
    "- delete_head = O(1)\n",
    "\n",
    "- delete_tail = O(n)  --> NOT EFFICIENT"
   ]
  },
  {
   "cell_type": "markdown",
   "metadata": {},
   "source": [
    "## Doubly Linked List"
   ]
  },
  {
   "cell_type": "code",
   "execution_count": 27,
   "metadata": {},
   "outputs": [],
   "source": [
    "class dlNode():\n",
    "    def __init__(self, element):\n",
    "        self.element = element\n",
    "        self.prev = None\n",
    "        self.next = None"
   ]
  },
  {
   "cell_type": "code",
   "execution_count": 74,
   "metadata": {},
   "outputs": [],
   "source": [
    "class DoubleLinkedList:\n",
    "    def __init__(self):\n",
    "        self.head = dlNode(None)  # header\n",
    "        self.tail = dlNode(None)  # trailer\n",
    "        self.head.next = self.tail\n",
    "        self.tail.prev = self.head\n",
    "        self.size = 0\n",
    "    \n",
    "    def __len__(self):\n",
    "        return self.size\n",
    "    \n",
    "    def is_empty(self):\n",
    "        return self.size == 0\n",
    "    \n",
    "    def insert_between(self, el, predecessorNode, succNode):\n",
    "        new = dlNode(el)\n",
    "        new.next = succNode\n",
    "        new.prev = predecessorNode\n",
    "\n",
    "        # don't forget to also set the prev and next of the succNode and predecessorNode\n",
    "        if succNode is not None:\n",
    "            succNode.prev = new\n",
    "        else:\n",
    "            self.tail.prev = new\n",
    "            new.next = self.tail\n",
    "            \n",
    "        if predecessorNode is not None:\n",
    "            predecessorNode.next = new\n",
    "        else:\n",
    "            self.head.next = new\n",
    "            new.prev = self.head\n",
    "        self.size += 1\n",
    "        return new\n",
    "    \n",
    "    def delete_element(self, el):\n",
    "        # we only know the element, we need to find the location\n",
    "        nd = self.head\n",
    "        while nd is not None:\n",
    "            if nd.element == el:\n",
    "                break\n",
    "            else:\n",
    "                nd = nd.next\n",
    "        \n",
    "        if nd is None:\n",
    "            print(\"this element doesn't exist in the linked list\")\n",
    "            return None\n",
    "        else:\n",
    "            predecessor = nd.prev\n",
    "            successor = nd.next\n",
    "            predecessor.next = successor\n",
    "            successor.prev = predecessor\n",
    "            self.size -= 1\n",
    "            delete_node_element =nd.element\n",
    "            nd.prev = nd.next = nd.element = None\n",
    "            return delete_node_element\n",
    "\n",
    "\n",
    "    def iterate(self):\n",
    "        nd = self.head.next\n",
    "        print(\"the elements in this doubly linked list are\")\n",
    "        while nd.next is not None:  # NOTICE THE ND.NEXT\n",
    "            print(nd.element, end =' ')\n",
    "            nd = nd.next\n",
    "        print()"
   ]
  },
  {
   "cell_type": "code",
   "execution_count": 63,
   "metadata": {},
   "outputs": [
    {
     "name": "stdout",
     "output_type": "stream",
     "text": [
      "the elements in this doubly linked list are\n",
      "9\n",
      "4\n",
      "5\n"
     ]
    }
   ],
   "source": [
    "# test the doubly linked list code\n",
    "dl = DoubleLinkedList()\n",
    "node1 = dl.insert_between(3, None, None)   # 3\n",
    "node2 = dl.insert_between(5, node1, None)   # 3 5\n",
    "node3 = dl.insert_between(8, node1, node2)  # 3 8 5 (insert between node1 and node2)\n",
    "node4 = dl.insert_between(4, node1, node3)  # 3 4 8 5\n",
    "node4 = dl.insert_between(9, None, node1)  # 9 3 4 8 5\n",
    "dl.delete_element(8)  # 9 3 4 5\n",
    "dl.delete_element(3)  # 9 4 5\n",
    "dl.iterate()"
   ]
  },
  {
   "cell_type": "markdown",
   "metadata": {},
   "source": [
    "# Exercises"
   ]
  },
  {
   "cell_type": "markdown",
   "metadata": {},
   "source": [
    "### Q1: Concatenate Two Linked List\n",
    "***ANOTHER ANSWER VERSION can be seen at the singlyLinkedList class above!!***"
   ]
  },
  {
   "cell_type": "code",
   "execution_count": 102,
   "metadata": {},
   "outputs": [
    {
     "name": "stdout",
     "output_type": "stream",
     "text": [
      "The elements in the current linked list\n",
      "10 20 30 \n",
      "The elements in the current linked list\n",
      "40 50 60 \n",
      "0\n",
      "The elements in the current linked list\n",
      "10 20 30 40 50 60 \n"
     ]
    }
   ],
   "source": [
    "\n",
    "def concatenate(LHead, MHead):\n",
    "    # we need to return a L' such that it contains elements from L and M\n",
    "    Lprime = singleLinkedList() # L prime is the new concatenated linked list\n",
    "    Lprime.head = LHead\n",
    "    # find the tail\n",
    "    nd = LHead\n",
    "    while nd.pointer is not None:\n",
    "        nd = nd.pointer\n",
    "    nd.pointer = MHead\n",
    "    return Lprime\n",
    "\n",
    "L = singleLinkedList()\n",
    "L.insert_head(10)\n",
    "L.insert_tail(20)\n",
    "L.insert_tail(30)\n",
    "\n",
    "M = singleLinkedList()\n",
    "M.insert_head(60)\n",
    "M.insert_head(50)\n",
    "M.insert_head(40)\n",
    "\n",
    "L.iterate()\n",
    "M.iterate()\n",
    "concatenate(L.head,M.head).iterate()\n"
   ]
  },
  {
   "cell_type": "markdown",
   "metadata": {},
   "source": [
    "## Notice!\n",
    "When we print the size of the new linked list, it shows that the size is **zero**!  \n",
    "\n",
    "Why?    \n",
    "\n",
    "Because, in this implementation, we are actually not really creating a linkedlist, we are just arranging the pointer of the two existing linked list to connect them together"
   ]
  },
  {
   "cell_type": "markdown",
   "metadata": {},
   "source": [
    "### Q2: LinkedQueue"
   ]
  },
  {
   "cell_type": "code",
   "execution_count": 83,
   "metadata": {},
   "outputs": [],
   "source": [
    "class QueueNode:\n",
    "    def __init__(self,e,node):\n",
    "        self.element=e\n",
    "        self.pointer=node\n",
    "\n",
    "class LinkedQueue:\n",
    "    def __init__(self):\n",
    "        self.head=None\n",
    "        self.tail=None\n",
    "        self.size=0\n",
    "\n",
    "    def __len__(self):\n",
    "        return self.size\n",
    "\n",
    "    def is_empty(self):\n",
    "        return self.size==0\n",
    "\n",
    "    def first(self):\n",
    "        if self.is_empty():\n",
    "            print('Queue is empty.')\n",
    "        else:\n",
    "            return self.head.element\n",
    "    \n",
    "    def end(self):\n",
    "        if self.is_empty():\n",
    "            print('Queue is empty.')\n",
    "        else:\n",
    "            return self.tail.element\n",
    "        \n",
    "    def dequeue(self):  # we dequeue from the head\n",
    "        nd = self.head\n",
    "        self.head = self.head.pointer\n",
    "        self.size -= 1\n",
    "        if self.size == 0:\n",
    "            self.tail = None\n",
    "        return nd.element\n",
    "\n",
    "    def enqueue(self, e):  # we enqueue to the tail\n",
    "        new = QueueNode(e, None)\n",
    "        self.size += 1\n",
    "        if self.size == 1:\n",
    "            self.head = new\n",
    "        else:\n",
    "            self.tail.pointer= new\n",
    "        self.tail = new\n",
    "\n",
    "\n",
    "    def __str__(self):\n",
    "        lsAns=[]\n",
    "        nd=self.head\n",
    "        while nd != None:\n",
    "            lsAns.append(str(nd.element))\n",
    "            nd=nd.pointer\n",
    "        return str(lsAns)"
   ]
  },
  {
   "cell_type": "markdown",
   "metadata": {},
   "source": [
    "### Q3: LinkedStack\n",
    "we only need one pointer (usually the self.head)"
   ]
  },
  {
   "cell_type": "code",
   "execution_count": 84,
   "metadata": {},
   "outputs": [
    {
     "name": "stdout",
     "output_type": "stream",
     "text": [
      "4\n",
      "[1, 2, 3]\n",
      "3\n"
     ]
    }
   ],
   "source": [
    "class StackNode:\n",
    "    def __init__(self,e,node):\n",
    "        self.element=e\n",
    "        self.pointer=node\n",
    "\n",
    "class LinkedStack:\n",
    "    def __init__(self):\n",
    "        self.head=None\n",
    "        self.size=0\n",
    "    \n",
    "    def __len__(self):\n",
    "        return self.size\n",
    "    \n",
    "    def is_empty(self):\n",
    "        return self.size == 0\n",
    "    \n",
    "    def top(self):\n",
    "        if self.is_empty():\n",
    "            print('Stack is empty')\n",
    "        else:\n",
    "            return self.head.element\n",
    "    \n",
    "    def pop(self):\n",
    "        if self.is_empty():\n",
    "            print(\"Stack is empty\")\n",
    "        else:\n",
    "            delete_node_element = self.head.element\n",
    "            self.head = self.head.pointer\n",
    "            self.size -= 1\n",
    "            return delete_node_element\n",
    "    \n",
    "    def push(self, e):\n",
    "        self.size += 1\n",
    "        new = StackNode(e, None)\n",
    "        new.pointer = self.head\n",
    "        self.head = new\n",
    "\n",
    "    def __str__(self):\n",
    "        ll = []\n",
    "        nd = self.head\n",
    "        while nd is not None:\n",
    "            ll.append(nd.element)\n",
    "            nd = nd.pointer\n",
    "        return str(ll[::-1])\n",
    "        # OR use ll.reverse() and then return ll\n",
    "\n",
    "\n",
    "## testing\n",
    "s=LinkedStack()\n",
    "s.push(1)\n",
    "s.push(2)\n",
    "s.push(3)\n",
    "s.push(4)\n",
    "print(s.pop())\n",
    "print(s)\n",
    "print(s.top())"
   ]
  },
  {
   "cell_type": "markdown",
   "metadata": {},
   "source": [
    "### Q4: Insertion Sort"
   ]
  },
  {
   "cell_type": "code",
   "execution_count": null,
   "metadata": {},
   "outputs": [],
   "source": [
    "## USING STANDARD LIST\n",
    "def insertion(insertionList):\n",
    "    for i in range(1, len(insertionList)):\n",
    "        j = i-1\n",
    "        x = insertionList[i]\n",
    "        while j>=0 and insertionList[j]>x:\n",
    "            insertionList[j+1] = insertionList[j]\n",
    "            j = j-1\n",
    "        # when insertionList[j] <= x or we reach the zero index\n",
    "        insertionList[j+1] = x\n",
    "    return insertionList"
   ]
  },
  {
   "cell_type": "code",
   "execution_count": 75,
   "metadata": {},
   "outputs": [
    {
     "name": "stdout",
     "output_type": "stream",
     "text": [
      "the elements in this doubly linked list are\n",
      "7 8 9 5 6 4 2 1 \n",
      "the elements in this doubly linked list are\n",
      "1 2 4 5 6 7 8 9 \n"
     ]
    }
   ],
   "source": [
    "## using Doubly Linked List\n",
    "def dlListInsertionSorT(myDlList):\n",
    "    currentNode = myDlList.head.next.next  # because we want the first index, not the zero index\n",
    "    while currentNode is not myDlList.tail:\n",
    "        j = currentNode.prev\n",
    "        x = currentNode.element\n",
    "        while j is not myDlList.head and j.element > x:\n",
    "            j.next.element = j.element  # do switching\n",
    "            j = j.prev\n",
    "        j.next.element = x\n",
    "        currentNode = currentNode.next\n",
    "    return myDlList\n",
    "\n",
    "## Test our answer\n",
    "L=DoubleLinkedList()\n",
    "L.insert_between(1,L.head,L.tail)\n",
    "L.insert_between(2,L.head,L.head.next)\n",
    "L.insert_between(4,L.head,L.head.next)\n",
    "L.insert_between(6,L.head,L.head.next)\n",
    "L.insert_between(5,L.head,L.head.next)\n",
    "L.insert_between(9,L.head,L.head.next)\n",
    "L.insert_between(8,L.head,L.head.next)\n",
    "L.insert_between(7,L.head,L.head.next)\n",
    "L.iterate()\n",
    "dlListInsertionSorT(L).iterate()"
   ]
  }
 ],
 "metadata": {
  "kernelspec": {
   "display_name": "Python 3",
   "language": "python",
   "name": "python3"
  },
  "language_info": {
   "codemirror_mode": {
    "name": "ipython",
    "version": 3
   },
   "file_extension": ".py",
   "mimetype": "text/x-python",
   "name": "python",
   "nbconvert_exporter": "python",
   "pygments_lexer": "ipython3",
   "version": "3.11.2"
  }
 },
 "nbformat": 4,
 "nbformat_minor": 2
}
