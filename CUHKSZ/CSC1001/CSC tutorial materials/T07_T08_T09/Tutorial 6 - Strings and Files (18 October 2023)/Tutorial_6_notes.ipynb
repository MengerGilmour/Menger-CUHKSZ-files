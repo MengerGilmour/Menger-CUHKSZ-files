{
 "cells": [
  {
   "cell_type": "markdown",
   "metadata": {},
   "source": [
    "# Tutorial 5 Notes"
   ]
  },
  {
   "cell_type": "markdown",
   "metadata": {},
   "source": [
    "#### String-Index Operator"
   ]
  },
  {
   "cell_type": "code",
   "execution_count": 6,
   "metadata": {},
   "outputs": [
    {
     "name": "stdout",
     "output_type": "stream",
     "text": [
      "r\n"
     ]
    }
   ],
   "source": [
    "# String-Index Operator\n",
    "s = 'crocodile'\n",
    "# s11 = s[9] # Error\n",
    "s12 = s[6]  # s[-2] = 'l' \n",
    "s13 = s[1:7]  # 'rocodi'\n",
    "s14 = s[1:7:2]  # 'rcd'\n",
    "s15 = s[1:-1]  # rocodil\n",
    "s15 = s[1:7:len(s)]  # r\n",
    "print(s15)"
   ]
  },
  {
   "cell_type": "markdown",
   "metadata": {},
   "source": [
    "#### Manipulating String"
   ]
  },
  {
   "cell_type": "code",
   "execution_count": 11,
   "metadata": {},
   "outputs": [
    {
     "name": "stdout",
     "output_type": "stream",
     "text": [
      "crooile\n"
     ]
    }
   ],
   "source": [
    "# delete characters in a string\n",
    "s = 'crocodile'\n",
    "s21 = s[:5] + s[6:]  # if we want to delete 'd' (index 5)\n",
    "s22 = s[:4] + s[-3:]  # if we want to delete 'od'\n",
    "s23 = s[:3] + s[4] + s[6:]"
   ]
  },
  {
   "cell_type": "code",
   "execution_count": 17,
   "metadata": {},
   "outputs": [
    {
     "name": "stdout",
     "output_type": "stream",
     "text": [
      "crocoabcdlo\n"
     ]
    }
   ],
   "source": [
    "# change an element\n",
    "s = 'crocodile'\n",
    "s31 = s[:6] + 'o' + s[7] + 'o'  # 'crocod' + 'o' + 'l' + 'o'\n",
    "s32 = s[:5] + 'abcd' + s[7] + 'o'  # 'croco' + 'abcd' + 'l' + 'o'\n",
    "ln33 = len(s) # 9\n",
    "print(s32)"
   ]
  },
  {
   "cell_type": "code",
   "execution_count": 33,
   "metadata": {},
   "outputs": [
    {
     "name": "stdout",
     "output_type": "stream",
     "text": [
      "True False True True\n"
     ]
    }
   ],
   "source": [
    "s = 'crocodile'\n",
    "s41 = 'cro' in s\n",
    "s42 = 'crc' in s\n",
    "s43 = 'cod' in s\n",
    "s44 = '' in s\n",
    "print(s41, s42, s43, s44)"
   ]
  },
  {
   "cell_type": "code",
   "execution_count": 23,
   "metadata": {},
   "outputs": [
    {
     "name": "stdout",
     "output_type": "stream",
     "text": [
      "c > r > o > c > o > d > i > l > e > "
     ]
    }
   ],
   "source": [
    "for charac in s:  # it iterates every character in the string\n",
    "    print(charac, end=' > ')"
   ]
  },
  {
   "cell_type": "code",
   "execution_count": 24,
   "metadata": {},
   "outputs": [
    {
     "name": "stdout",
     "output_type": "stream",
     "text": [
      "c > r > o > c > o > d > i > l > e"
     ]
    }
   ],
   "source": [
    "for charac in s:  # it iterates every character in the string\n",
    "    if charac == s[-1]:\n",
    "        print(charac, end='')\n",
    "    else:\n",
    "        print(charac, end=' > ')"
   ]
  },
  {
   "cell_type": "markdown",
   "metadata": {},
   "source": [
    "#### Some Methods of Strings-1"
   ]
  },
  {
   "cell_type": "code",
   "execution_count": 29,
   "metadata": {},
   "outputs": [
    {
     "name": "stdout",
     "output_type": "stream",
     "text": [
      "True True False False True\n"
     ]
    }
   ],
   "source": [
    "# Judge the types of Characters in Strings\n",
    "s = 'crocodile'\n",
    "print(s.isalnum(), s.isalpha(), s.isdigit(), s.isupper(), s.islower())"
   ]
  },
  {
   "cell_type": "code",
   "execution_count": 28,
   "metadata": {},
   "outputs": [
    {
     "name": "stdout",
     "output_type": "stream",
     "text": [
      "False False False True False\n"
     ]
    }
   ],
   "source": [
    "s = 'CRO123*'\n",
    "print(s.isalnum(), s.isalpha(), s.isdigit(), s.isupper(), s.islower())"
   ]
  },
  {
   "cell_type": "code",
   "execution_count": 35,
   "metadata": {},
   "outputs": [
    {
     "name": "stdout",
     "output_type": "stream",
     "text": [
      "True True False\n",
      "True True False\n"
     ]
    }
   ],
   "source": [
    "# the endswith() and startswith() --> it is a boolean operator\n",
    "s = 'crocodile'\n",
    "s51 = s.endswith('le')\n",
    "s52 = s.endswith('')\n",
    "s53 = s.endswith('di')\n",
    "print(s51, s52, s53)\n",
    "s54 = s.startswith('cr')\n",
    "s55 = s.startswith('')\n",
    "s56 = s.startswith('crco')\n",
    "print(s54, s55, s56)\n"
   ]
  },
  {
   "cell_type": "code",
   "execution_count": 44,
   "metadata": {},
   "outputs": [
    {
     "name": "stdout",
     "output_type": "stream",
     "text": [
      "2 7 7 2\n",
      "4\n"
     ]
    }
   ],
   "source": [
    "# find(s1) and rfind(s1)\n",
    "# find: find the LOWEST index that corresponds to that substring\n",
    "# rfind: find the HIGHEST index that corresponds to that substring\n",
    "s = 'crocodile'\n",
    "s61 = s.find('oc')  # 2\n",
    "s62 = s.find('l')  # 7\n",
    "s63 = s.find('le')  # 7\n",
    "s64 = s.find('ll')  # -1\n",
    "s65 = s.find('c')  # 0\n",
    "s66 = s.find('o')  # 2\n",
    "print(s61, s62, s63, s66)\n",
    "s67 = s.rfind('c')  # 3\n",
    "s68 = s.rfind('o')  # 4\n",
    "\n",
    "x = 'cococo'\n",
    "x1 = x.find('co') # 4\n",
    "x2 = x.rfind('co') # 0"
   ]
  },
  {
   "cell_type": "code",
   "execution_count": 69,
   "metadata": {},
   "outputs": [
    {
     "name": "stdout",
     "output_type": "stream",
     "text": [
      "CROCODILE90&* crocodile90&*\n",
      "crOcOdIlE90&*\n"
     ]
    }
   ],
   "source": [
    "# lower and upper -> modify to lowercase or uppercase letters\n",
    "s = 'CRoCoDiLe90&*'\n",
    "sUpper = s.upper()\n",
    "sLower = s.lower()\n",
    "print(sUpper, sLower)\n",
    "# swapcase -> change lowercase to uppercase AND change uppercase to lowercase\n",
    "sSwap = s.swapcase()\n",
    "print(sSwap)"
   ]
  },
  {
   "cell_type": "code",
   "execution_count": 66,
   "metadata": {},
   "outputs": [
    {
     "name": "stdout",
     "output_type": "stream",
     "text": [
      "7 3 2\n",
      "repreprepreprepreprep repreprepa reprepa\n"
     ]
    }
   ],
   "source": [
    "# count and replace\n",
    "# count: count the non-overlapping occurences of the substring s1\n",
    "# replace: replace the non-overlapping occurences of substring s1 with another string\n",
    "s = 'aaaaaaa'\n",
    "s71 = s.count('a')\n",
    "s72 = s.count('aa')\n",
    "s73 = s.count('aaa')\n",
    "print(s71, s72, s73)\n",
    "# 7 'a', 3 'aa', 2 'aaa'. It is equivalent with 7//2 or 7//3\n",
    "s74 = s.replace('a', 'rep')\n",
    "s75 = s.replace('aa', 'rep')\n",
    "s76 = s.replace('aaa', 'rep')\n",
    "print(s74, s75, s76)  # notice the number of 'rep' in each string (see the pattern?)"
   ]
  },
  {
   "cell_type": "code",
   "execution_count": 74,
   "metadata": {},
   "outputs": [
    {
     "name": "stdout",
     "output_type": "stream",
     "text": [
      "['cr', 'c', 'dile'] ['crocodi', 'e'] ['crocodile']\n",
      "['aaaaaa', 'aaa'] ['', '', '', '', '', '', ' ', '', '', ''] ['', '', '', ' ', 'a'] ['', '', ' ', '']\n"
     ]
    }
   ],
   "source": [
    "# split(delimiter) function\n",
    "# delimiter: a character that separates a text string\n",
    "# DEFAULT: split(' ')\n",
    "# RESULT:  a list of strings\n",
    "s = 'crocodile'\n",
    "s81 = s.split('o')\n",
    "s82 = s.split('l')\n",
    "s83 = s.split()\n",
    "print(s81, s82, s83)  # notice that the delimiter is deleted!\n",
    "s2 = 'aaaaaa aaa'\n",
    "s84 = s2.split()\n",
    "s85 = s2.split('a')  # ['', '', '', '', '', '', ' ', '', '', '']\n",
    "# ^ '(a)(a)(a)(a)(a)(a)( )(a)(a)(a)'\n",
    "s86 = s2.split('aa')  # ['', '', '', ' ', 'a'] '(aa)(aa)(aa)( )(aa)(a)'\n",
    "s87 = s2.split('aaa')  # ['', '', ' ', ''] '(aaa)(aaa)( )(aaa)'\n",
    "print(s84, s85, s86, s87)"
   ]
  },
  {
   "cell_type": "markdown",
   "metadata": {},
   "source": [
    "### File Handling\n",
    "\n",
    "test.txt:\\\n",
    "Hello\\\n",
    "World\\\n",
    "JIAYOU_MIDTERMS\\n\\\\\n",
    "\n",
    "\\\n",
    "note: there is another newline afte the last line 'JIAYOU_MIDTERMS\\n'"
   ]
  },
  {
   "cell_type": "markdown",
   "metadata": {},
   "source": [
    "#### Read File Functions\n",
    "There are three main function that you can use to read file:\n",
    "1. fileVariable.read() &rarr; a string\n",
    "2. fileVariable.readline() &rarr; a string\n",
    "3. fileVariable.readlines() &rarr; a list/\n",
    "\n",
    "note: if the mode is 'w' or 'a', then these functions will output an ERROR"
   ]
  },
  {
   "cell_type": "code",
   "execution_count": 1,
   "metadata": {},
   "outputs": [
    {
     "name": "stdout",
     "output_type": "stream",
     "text": [
      "Hello\n",
      "World\n",
      "JIAYOU_MIDTERMS\\n\n"
     ]
    }
   ],
   "source": [
    "# fileVariable.read()\n",
    "fileVariable = open('test.txt', 'r') \n",
    "fVread = fileVariable.read()\n",
    "print(fVread)  # it reads the whole content of the file into a string\n"
   ]
  },
  {
   "cell_type": "code",
   "execution_count": 53,
   "metadata": {},
   "outputs": [
    {
     "name": "stdout",
     "output_type": "stream",
     "text": [
      "['Hello\\n', 'World\\n', 'JIAYOU_MIDTERMS\\\\n']\n"
     ]
    }
   ],
   "source": [
    "# Structure: fileVariable = open(filename, mode)\n",
    "# \\ -> escape operator : to insert character that are illegal in string\n",
    "fV = open(\"test.txt\", 'r')\n",
    "print(fV.readlines())"
   ]
  },
  {
   "cell_type": "markdown",
   "metadata": {},
   "source": [
    "#### Pointer in a File\n",
    "\n",
    "After you finish reading a text file to the end, the pointer will point to the end of the file.  \n",
    "If you want to read from the beginning again, you need to do one of the followings:\n",
    "- Close and open the file again\n",
    "- use fileVariable.seek(0)"
   ]
  },
  {
   "cell_type": "code",
   "execution_count": 54,
   "metadata": {},
   "outputs": [
    {
     "data": {
      "text/plain": [
       "0"
      ]
     },
     "execution_count": 54,
     "metadata": {},
     "output_type": "execute_result"
    }
   ],
   "source": [
    "# First method\n",
    "fV.close()\n",
    "fV = open('test.txt', 'r')\n",
    "\n",
    "# second method\n",
    "fV.seek(0)"
   ]
  },
  {
   "cell_type": "markdown",
   "metadata": {},
   "source": [
    "#### FILE MODE\n",
    "There are three file modes\n",
    "- 'r' (read): you cannot modify the file. You just read and analyse the file\n",
    "- 'w' (write): you write the file from the start! *** WARNING: If that file name already existed, the content of the old file will be deleted! ***\n",
    "- 'a' (append): you edit the old version of the file by appending new sentences/strings at the end of the old file"
   ]
  },
  {
   "cell_type": "code",
   "execution_count": 58,
   "metadata": {},
   "outputs": [
    {
     "name": "stdout",
     "output_type": "stream",
     "text": [
      "Hate\n",
      "You\n"
     ]
    }
   ],
   "source": [
    "fV11 = open('write1.txt', 'w')\n",
    "fV11.write(\"Hate\\n\")  # \\n denotes a NEW LINE\n",
    "fV11.write(\"You\")\n",
    "fV11.close()\n",
    "fV11 = open('write1.txt', 'r')\n",
    "print(fV11.read())"
   ]
  },
  {
   "cell_type": "code",
   "execution_count": 61,
   "metadata": {},
   "outputs": [
    {
     "name": "stdout",
     "output_type": "stream",
     "text": [
      "Love\n",
      "You \n"
     ]
    }
   ],
   "source": [
    "# if we use write1.txt again, then the file will be automatically deleted\n",
    "fV21 = open('write1.txt', 'w')\n",
    "fV21.write(\"Love\\n\")  # \\n denotes a NEW LINE\n",
    "fV21.write(\"You \")\n",
    "fV21.close()\n",
    "fV22 = open('write1.txt', 'r')\n",
    "print(fV22.read())"
   ]
  },
  {
   "cell_type": "code",
   "execution_count": 62,
   "metadata": {},
   "outputs": [
    {
     "name": "stdout",
     "output_type": "stream",
     "text": [
      "Love\n",
      "You Forever\n",
      "My Love\n"
     ]
    }
   ],
   "source": [
    "# if we use write1.txt again, then the file will be automatically deleted\n",
    "fV31 = open('write1.txt', 'a')\n",
    "fV31.write(\"Forever\\n\")  # \\n denotes a NEW LINE\n",
    "fV31.write(\"My Love\")\n",
    "fV31.close()\n",
    "fV32 = open('write1.txt', 'r')\n",
    "print(fV32.read())"
   ]
  },
  {
   "cell_type": "code",
   "execution_count": 1,
   "metadata": {},
   "outputs": [],
   "source": [
    "fV41 = open('write2.txt', 'a')\n"
   ]
  },
  {
   "cell_type": "markdown",
   "metadata": {},
   "source": [
    "### Exercises Answers"
   ]
  },
  {
   "cell_type": "markdown",
   "metadata": {},
   "source": []
  },
  {
   "cell_type": "markdown",
   "metadata": {},
   "source": [
    "##### Q1 - Check Substrings\n",
    "You can check whether a string is a substring of another string by using the find method in the str class. Write your own function to implement find. Write a program that prompts the user to enter two strings and then checks whether the first string is a substring of the second string."
   ]
  },
  {
   "cell_type": "code",
   "execution_count": 3,
   "metadata": {},
   "outputs": [
    {
     "name": "stdout",
     "output_type": "stream",
     "text": [
      "llo is a substring of hello\n",
      "llo is a substring of hello\n"
     ]
    }
   ],
   "source": [
    "def UsingFindFunction(first, second):\n",
    "    if second.find(first) != -1:\n",
    "        print(first + \" is a substring of \" + second)\n",
    "    else:\n",
    "        print(first + \" is NOT a substring of \" + second)\n",
    "\n",
    "def selfDefinedFindFunction(first, second):\n",
    "    foundSubstr = False\n",
    "    for secondidx in range(len(second)):\n",
    "        if second[secondidx:secondidx + len(first)] == first:\n",
    "            print(first + \" is a substring of \" + second)\n",
    "            foundSubstr = True\n",
    "        \n",
    "    if foundSubstr is False:\n",
    "        print(first + \" is NOT a substring of \" + second)\n",
    "\n",
    "selfDefinedFindFunction(\"llo\", \"hello\")\n",
    "UsingFindFunction(\"llo\", \"hello\")"
   ]
  },
  {
   "cell_type": "markdown",
   "metadata": {},
   "source": [
    "##### Q2 - Check Password\n",
    "- A password must have at least eight characters &rarr; len()\n",
    "- A password must consist of only letters and digits. &rarr; isalnum()\n",
    "- A password must contain at least two digits. &rarr; isdigit()"
   ]
  },
  {
   "cell_type": "code",
   "execution_count": 2,
   "metadata": {},
   "outputs": [
    {
     "name": "stdout",
     "output_type": "stream",
     "text": [
      "Your password is valid\n"
     ]
    }
   ],
   "source": [
    "def checkPassword(pwd):\n",
    "    # consist of at least 8 characters and only consist of alphanumeric\n",
    "    if len(pwd) >= 8 and pwd.isalnum() is True:\n",
    "        countdigit = 0\n",
    "        # check if it has at least two digits\n",
    "        for ch in pwd:\n",
    "            if ch.isdigit():\n",
    "                countdigit += 1\n",
    "        if countdigit >= 2:\n",
    "            return True\n",
    "    return False\n",
    "\n",
    "res = checkPassword(\"hello123\")\n",
    "if res is True:\n",
    "    print(\"Your password is valid\")\n",
    "else:\n",
    "    print(\"Your password is not valid. Please check the requirements again\")"
   ]
  },
  {
   "cell_type": "markdown",
   "metadata": {},
   "source": [
    "##### Q3 - Longest Common Prefix\n",
    "Write a method that returns the longest common prefix of two strings. For example, the longest common prefix of distance and disinfection is dis. The header of the method is **def prefix(s1,s2)**: . If the two strings have no common prefix, the method returns an\n",
    "empty string. Write a main method that prompts the user to enter two strings and display their longest common prefix.\n"
   ]
  },
  {
   "cell_type": "code",
   "execution_count": 4,
   "metadata": {},
   "outputs": [
    {
     "name": "stdout",
     "output_type": "stream",
     "text": [
      "The longest common prefix of the two strings is dis\n"
     ]
    }
   ],
   "source": [
    "def prefix(s1, s2):\n",
    "    leng = 1\n",
    "    while True:\n",
    "        if s1[:leng:1] == s2[:leng:1]:  # if s1.startswith(s2[:leng]): <- you can also use this method\n",
    "            leng += 1\n",
    "        else:\n",
    "            break\n",
    "    return s1[:leng-1]\n",
    "first = input(\"Enter the first string: \")\n",
    "second = input(\"Enter the second string: \")\n",
    "print(\"The longest common prefix of the two strings is\", prefix(first, second))"
   ]
  },
  {
   "cell_type": "markdown",
   "metadata": {},
   "source": [
    "#### Q4.i) - Handling File\n",
    "Write a program that will count the number of characters, words, and lines in a file. Words are separated by a whitespace character. Your program should prompt the user to enter a filename.\n"
   ]
  },
  {
   "cell_type": "code",
   "execution_count": 80,
   "metadata": {},
   "outputs": [
    {
     "name": "stdout",
     "output_type": "stream",
     "text": [
      "In the file JaneEyre_utf8.txt, there are\n",
      "10893 characters,\n",
      "1930 words,\n",
      "46 lines.\n"
     ]
    }
   ],
   "source": [
    "def fileHandling(fileName):\n",
    "    try:\n",
    "        fileVariable = open(fileName, 'r')  # we set the mode to be 'r' since we don't want to edit the file\n",
    "        fileContent = fileVariable.read()\n",
    "        numOfCharacters = len(fileContent)\n",
    "        print(\"In the file \"+ fileName + ', there are')\n",
    "        print(numOfCharacters, 'characters,')\n",
    "        fileVariable.close()\n",
    "        fV = open(fileName, 'r')  # we need to close and open the file again to make the pointer point to the beginning again\n",
    "        numOfWords = 0\n",
    "        for line in fV.readlines():\n",
    "            numOfWords = numOfWords + len(line.split())\n",
    "        print(numOfWords, 'words,')\n",
    "        fV.close()\n",
    "        fV2 = open(fileName, 'r')  # we need to close and open the file again to make the pointer point to the beginning again\n",
    "        numOfLines = len(fV2.readlines())\n",
    "        print(numOfLines, 'lines.')\n",
    "    except:\n",
    "        print(\"the file name you inputted doesn't exist\")\n",
    "\n",
    "#fileName = input(\"Enter a filename:\")\n",
    "fileName = 'JaneEyre_utf8.txt'\n",
    "fileHandling(fileName)"
   ]
  },
  {
   "cell_type": "markdown",
   "metadata": {},
   "source": [
    "#### Q4.ii) - Handling File\n",
    "\n",
    " In the file “JaneEyre.txt”, there are some typos “amd” which should actually be “and”, find how many of them and replace all, then write the correct version into a new file.​\n"
   ]
  },
  {
   "cell_type": "code",
   "execution_count": 86,
   "metadata": {},
   "outputs": [
    {
     "name": "stdout",
     "output_type": "stream",
     "text": [
      "There are 80 'amd' that was changed to and\n"
     ]
    }
   ],
   "source": [
    "def fileHandling2(fileName):\n",
    "    # find the number of typo 'amd's\n",
    "    fV = open(fileName, 'r')\n",
    "    fileContent = fV.read()\n",
    "    numberOfTypos = 0\n",
    "    index = 0\n",
    "    while index != len(fileContent):\n",
    "        # we only want the word 'amd' and not 'amd' that is just part of a word\n",
    "        # for example, 'slAMDunks\n",
    "        if fileContent[index: index+3] == 'amd' and fileContent[index-1].isalnum() is False and fileContent[index+3].isalnum() is False:\n",
    "            # change it into 'and'\n",
    "            fileContent = fileContent[:index] + 'and' + fileContent[index+3:]\n",
    "            numberOfTypos += 1\n",
    "            index += 4\n",
    "        index+=1\n",
    "\n",
    "    print(\"There are\", numberOfTypos, \"'amd' that was changed to and\")\n",
    "    # rewrite the revised text to a newly created file\n",
    "    fV2 = open(\"JaneEyreRevised.txt\", 'w')\n",
    "    fV2.write(fileContent)\n",
    "\n",
    "fileHandling2('JaneEyre_utf8.txt')\n"
   ]
  }
 ],
 "metadata": {
  "kernelspec": {
   "display_name": "Python 3",
   "language": "python",
   "name": "python3"
  },
  "language_info": {
   "codemirror_mode": {
    "name": "ipython",
    "version": 3
   },
   "file_extension": ".py",
   "mimetype": "text/x-python",
   "name": "python",
   "nbconvert_exporter": "python",
   "pygments_lexer": "ipython3",
   "version": "3.11.2"
  }
 },
 "nbformat": 4,
 "nbformat_minor": 2
}
