{
 "cells": [
  {
   "cell_type": "markdown",
   "metadata": {},
   "source": [
    "## Principles of OOP\n",
    "Created by: Florensia Widjaja (122040013) for CSC1001 Tutorial 9 Fall 2023 Semester  \n",
    "A good resource worth-checking-out: https://jeemariyana.medium.com/oop-concepts-with-real-world-examples-cda1cd277f4f"
   ]
  },
  {
   "cell_type": "markdown",
   "metadata": {},
   "source": [
    "#### Abstraction\n",
    "You know there are so many interesting features in your phone, such as making phone calls, downloading many different varieties of applications. But do you know **HOW** your phone is able to do all of those cool features? No right? That's basically what abstraction is.  \n",
    "\n",
    "Another example is when you are driving a car, do you know how the brakes or gas pedals work? No. But just by **KNOWING THE FUNCTION** of the brakes and the gas pedals, you are already prepared to use the car. Same thing with abstraction. Imagine that\n",
    "- Class : All cars\n",
    "- Your Tesla car : one instance/objects of the Car Class\n",
    "- The gas and pedals inside your car: Methods/Functions of the Car Class"
   ]
  },
  {
   "cell_type": "markdown",
   "metadata": {},
   "source": [
    "#### Encapsulation\n",
    "Encapsulation is packing up data and methods to one single unit (class).\n",
    "\n",
    "In abstraction, we explain that you only need to learn the FUNCTION of each methods in a class, which makes it easier right? but sometimes it is also beneficial to the companies who intentionally want to hide the data. Therefore, the users can only change and retrieve the instances attributes they have access to.\n",
    "\n",
    "Basically they cannot just get their password directly by name.password but they must have the **permission** (which is by defining the getter to become a public method) by the company to have access to their password"
   ]
  },
  {
   "cell_type": "code",
   "execution_count": 1,
   "metadata": {},
   "outputs": [],
   "source": [
    "class Account:\n",
    "    def __init__(self, username, password):\n",
    "        self.__username = username\n",
    "        self.__password = password\n",
    "\n",
    "    def setUsername(self, newUsername): # this is what's called setter\n",
    "        self.__username = newUsername\n",
    "    def setPassword(self, newPassword):\n",
    "        self.__password = newPassword\n",
    "\n",
    "    def getUsername(self):  # this is what is called getter\n",
    "        return self.__username\n",
    "    def getPassword(self):\n",
    "        return self.__password\n",
    "    def __getPassword(self):  # if the getter is set to be PRIVATE then the external users cannot have access to the passwords\n",
    "        return self.__password"
   ]
  },
  {
   "cell_type": "markdown",
   "metadata": {},
   "source": [
    "#### Inheritance (the is-a relationship)\n",
    "For example, you have make users for the employees in your store. There is person who works as a cashier, as a manager, or as a sales person. Every one of these people have the ability to eat, sleep, have to come to work at the same time. Therefore, instead of making three 'eat', 'sleep', and 'come_to_work_ontime' methods for each classes, **we define an 'employee' class, and let the 'manager', 'sales', and 'cashier' class INHERIT from this 'employee' class**. \n",
    "\n",
    "***Example code in below of method overriding***\n"
   ]
  },
  {
   "cell_type": "markdown",
   "metadata": {},
   "source": [
    "#### Dynamic Binding\n",
    "The same method implemented in many classes. Dynamic binding **DETERMINES WHICH METHOD TO INVOKE**"
   ]
  },
  {
   "cell_type": "code",
   "execution_count": 2,
   "metadata": {},
   "outputs": [
    {
     "name": "stdout",
     "output_type": "stream",
     "text": [
      "go in car\n",
      "go in car\n",
      "go in Tesla\n",
      "go in Tesla\n"
     ]
    }
   ],
   "source": [
    "class Car:\n",
    "    def drive(self):\n",
    "        self.go()\n",
    "    def go(self):\n",
    "        print(\"go in car\")\n",
    "\n",
    "class Tesla(Car):\n",
    "    def go(self):\n",
    "        print(\"go in Tesla\")\n",
    "\n",
    "def main():\n",
    "    d = Car()\n",
    "    d.go()\n",
    "    d.drive()\n",
    "\n",
    "    t = Tesla()\n",
    "    t.go()  # t inherits the go method in Car\n",
    "    t.drive()  # this is dynamic binding. It calls the INHERITED METHOD DRIVE and then this Drive method CALLS GO FROM TESLA\n",
    "\n",
    "main()"
   ]
  },
  {
   "cell_type": "markdown",
   "metadata": {},
   "source": [
    "#### Polymorphism (One kind of dynamic binding)\n",
    " **Polymorphism is the ability of an object to take on many forms.**  \n",
    " a.k.a the object of different classes can be passed as arguments to the same function"
   ]
  },
  {
   "cell_type": "markdown",
   "metadata": {},
   "source": [
    "#### Overriding\n",
    "One such example of dynamic binding.\n",
    "\n",
    "The superclass (parent class) and subclass both has a method call x()\n",
    "then if subclass.x() is called --> the method in the subclass gonna be run instead of the one in superclass\n",
    "\n",
    "***come_to_work method below illustrates overriding***\n"
   ]
  },
  {
   "cell_type": "code",
   "execution_count": 3,
   "metadata": {},
   "outputs": [
    {
     "name": "stdout",
     "output_type": "stream",
     "text": [
      "Mikehas 80.000 yuan salary\n",
      "Britanyhas 100.000 yuan salary\n",
      "None\n",
      "Britany comes to work on time\n",
      "Mike comes to work late :(\n"
     ]
    }
   ],
   "source": [
    "class Employee(object):  # know that any classes always inherit from the Object class\n",
    "    def __init__(self, name, age):\n",
    "        self.name = name\n",
    "        self.age = age\n",
    "    def eat(self):\n",
    "        print(self.name + \" has eaten today\")\n",
    "    def sleep(self):\n",
    "        print(self.name + ' has gotten their well-deserved sleep :)')\n",
    "    def come_to_work(self, time):\n",
    "        if time > 8:  # work starts at 8 am so if he comes more than 8, he is late\n",
    "            print(self.name + ' comes to work late :(')\n",
    "        else:\n",
    "            print(self.name + \" comes to work on time\")\n",
    "\n",
    "\n",
    "class Sales(Employee):\n",
    "    # because we don't define another initialization/constructor, the sales will inherit \n",
    "    # __init__ function from employee class\n",
    "    def make_sales_events(self, time):\n",
    "        print(self.name + \" will make a sales event at \" + time)\n",
    "    def salary(self):\n",
    "        print(self.name + \" has 70.000 yuan salary\")\n",
    "\n",
    "class Cashier(Employee):\n",
    "    # because we don't define another initialization/constructor, the cashier will inherit \n",
    "    # __init__ function from employee class\n",
    "    def report_income(self, income):\n",
    "        print(self.name + \"collected \" + income + \" yuan today.\")\n",
    "    def salary(self):\n",
    "        print(self.name + \"has 80.000 yuan salary\")\n",
    "\n",
    "class Manager(Sales):  # if it inherits from sales, then this is a SALES MANAGER\n",
    "    # because we don't define another initialization/constructor, the managers will inherit \n",
    "    # __init__ function from employee class\n",
    "    def make_meetings(self, time):\n",
    "        print(\"this manager will make a meeting at \" + time)\n",
    "    def salary(self):\n",
    "        print(self.name + \"has 100.000 yuan salary\")\n",
    "    def come_to_work(self, time):\n",
    "        if time > 10:  # work starts at 8 am so if he comes more than 8, he is late\n",
    "            print(self.name + ' comes to work late :(')\n",
    "            return -1 # -1 indicates late\n",
    "        else:\n",
    "            print(self.name + \" comes to work on time\")\n",
    "            # 1 indicates ontime\n",
    "\n",
    "def compare_employee(emp1,emp2):  # POLYMORPHISM: WE DON'T KNOW WHAT EMP1 AND EMP2 IS, THEY CAN BE MANAGER, SALES, OR CASHIER.\n",
    "    if emp1.come_to_work > emp2.come_to_work:\n",
    "        print(emp1.name + \" is better than \" + emp2.name)\n",
    "    elif emp1.come_to_work < emp2.come_to_work:\n",
    "        print(emp2.name + \" is better than \" + emp1.name)\n",
    "    else:\n",
    "        print(emp1.name + \" have the same performance as \" + emp2.name)\n",
    "def main():\n",
    "    mike = Cashier('Mike', 22)\n",
    "    britany = Manager('Britany', 24)\n",
    "    mike.salary()\n",
    "    print(britany.salary())\n",
    "\n",
    "    # METHOD OVERRIDING (because it has the SAME NAME AND SAME METHOD ARGUMENT)\n",
    "    # DYNAMIC BINDING is deciding which come_to_work method should be invoked BASED ON THE INHERITENCE CHAIN\n",
    "    britany.come_to_work(9)  # runs the method in the subclass and not in the superclass\n",
    "    mike.come_to_work(9)  # runs method of superclass\n",
    "\n",
    "main()"
   ]
  },
  {
   "cell_type": "markdown",
   "metadata": {},
   "source": [
    "## Exercises"
   ]
  },
  {
   "cell_type": "markdown",
   "metadata": {},
   "source": [
    "#### Question 1"
   ]
  },
  {
   "cell_type": "code",
   "execution_count": 4,
   "metadata": {},
   "outputs": [
    {
     "name": "stdout",
     "output_type": "stream",
     "text": [
      "B's __new__() invoked\n",
      "A's __new__() invoked\n"
     ]
    }
   ],
   "source": [
    "## Question 1.1.\n",
    "class A:\n",
    "    def __new__(self):\n",
    "        print(\"A's __new__() invoked\")\n",
    "    def __init__(self):\n",
    "        print(\"A's __init__() invoked\")\n",
    "\n",
    "class B(A):  # B inherits A\n",
    "    def __new__(self):\n",
    "        print(\"B's __new__() invoked\")\n",
    "    def __init__(self):\n",
    "        print(\"B's __init__() invoked\")\n",
    "    \n",
    "def main():\n",
    "    b = B()\n",
    "    a = A()\n",
    "\n",
    "main()"
   ]
  },
  {
   "cell_type": "code",
   "execution_count": 3,
   "metadata": {},
   "outputs": [
    {
     "name": "stdout",
     "output_type": "stream",
     "text": [
      "B's __init__() invoked\n",
      "B's __new__() invoked\n",
      "A's __init__() invoked\n",
      "A's __new__() invoked\n"
     ]
    }
   ],
   "source": [
    "## Question 1.2.\n",
    "class A:\n",
    "    def __new__(self):\n",
    "        self.__init__(self)\n",
    "        print(\"A's __new__() invoked\")\n",
    "    def __init__(self):\n",
    "        print(\"A's __init__() invoked\")\n",
    "\n",
    "class B(A):  # B inherits A\n",
    "    def __new__(self):\n",
    "        self.__init__(self)\n",
    "        print(\"B's __new__() invoked\")\n",
    "    def __init__(self):\n",
    "        print(\"B's __init__() invoked\")\n",
    "    \n",
    "def main():\n",
    "    b = B()\n",
    "    a = A()\n",
    "\n",
    "main()"
   ]
  },
  {
   "cell_type": "code",
   "execution_count": 5,
   "metadata": {},
   "outputs": [
    {
     "name": "stdout",
     "output_type": "stream",
     "text": [
      "B's __init__() invoked\n",
      "A's __new__() invoked\n",
      "A's __init__() invoked\n",
      "A's __new__() invoked\n"
     ]
    }
   ],
   "source": [
    "## Question 1.1.\n",
    "class A:\n",
    "    def __new__(self):\n",
    "        self.__init__(self)\n",
    "        print(\"A's __new__() invoked\")\n",
    "    def __init__(self):\n",
    "        print(\"A's __init__() invoked\")\n",
    "\n",
    "class B(A):  # B inherits A\n",
    "    def __init__(self):\n",
    "        print(\"B's __init__() invoked\")\n",
    "    \n",
    "def main():\n",
    "    b = B()\n",
    "    a = A()\n",
    "\n",
    "main()"
   ]
  },
  {
   "cell_type": "markdown",
   "metadata": {},
   "source": [
    "#### Question 2"
   ]
  },
  {
   "cell_type": "code",
   "execution_count": 6,
   "metadata": {},
   "outputs": [
    {
     "name": "stdout",
     "output_type": "stream",
     "text": [
      "1\n",
      "1\n"
     ]
    }
   ],
   "source": [
    "class A:\n",
    "    def __init__(self,i=0,j=0):\n",
    "        self.__i=i\n",
    "        self.j=j\n",
    "    def __m1(self):\n",
    "        self.__i+=1\n",
    "    def m2(self):\n",
    "        return self.__i\n",
    "    \n",
    "class B(A):\n",
    "    def __init__(self,i=1,j=1):\n",
    "        super().__init__(i,j)\n",
    "\n",
    "b=B()\n",
    "##print(b.__i)    #①\n",
    "print(b.j)      #②\n",
    "##print(b.__m1()) #③\n",
    "print(b.m2())   #④"
   ]
  },
  {
   "cell_type": "markdown",
   "metadata": {},
   "source": [
    "#### Question 3"
   ]
  },
  {
   "cell_type": "code",
   "execution_count": 7,
   "metadata": {},
   "outputs": [
    {
     "name": "stdout",
     "output_type": "stream",
     "text": [
      "(2,5)\n",
      "(3,4)\n",
      "(5,9)\n",
      "5.385164807134504\n",
      "5.0\n",
      "False\n",
      "True\n",
      "False\n"
     ]
    }
   ],
   "source": [
    "from math import sqrt\n",
    "\n",
    "class Vector:\n",
    "    def __init__(self,x=1,y=0):\n",
    "        self.x=x\n",
    "        self.y=y\n",
    "    def __str__(self):\n",
    "        return '('+str(self.x)+','+str(self.y)+')'\n",
    "    def __add__(self,v):\n",
    "        Newv=Vector()\n",
    "        Newv.x=self.x+v.x\n",
    "        Newv.y=self.y+v.y\n",
    "        return Newv\n",
    "    def __sub__(self,v):\n",
    "        Newv=Vector()\n",
    "        Newv.x=self.x-v.x\n",
    "        Newv.y=self.y-v.y\n",
    "        return Newv\n",
    "    def __eq__(self,v):\n",
    "        return self.norm()==v.norm()\n",
    "    def __gt__(self,v):\n",
    "        return self.norm()>v.norm()\n",
    "    def __lt__(self,v):\n",
    "        return self.norm()<v.norm()    \n",
    "    def norm(self):\n",
    "        return sqrt(self.x**2+self.y**2)\n",
    "\n",
    "a=Vector(2,5)\n",
    "b=Vector(3,4)\n",
    "print(a)\n",
    "print(b)\n",
    "c=a+b\n",
    "print(c)\n",
    "print(a.norm())\n",
    "print(b.norm())\n",
    "print(a==b)\n",
    "print(a>b)\n",
    "print(a<b)"
   ]
  },
  {
   "cell_type": "markdown",
   "metadata": {},
   "source": [
    "#### Question 4: Inheritance Tree\n",
    "Please Refer to the pdf file I sent to the OneDrive Link."
   ]
  },
  {
   "cell_type": "markdown",
   "metadata": {},
   "source": [
    "#### Question 5: Simple Game: Undercut and Question 6: Course Selection System\n",
    "You can refer to the sample codes given. I don't see anything that can be improved on the sample code they gave so I'd suggest you to also refer to those codes.\n"
   ]
  },
  {
   "cell_type": "code",
   "execution_count": 9,
   "metadata": {},
   "outputs": [
    {
     "name": "stdout",
     "output_type": "stream",
     "text": [
      "MyPython moves 10 Jay moves 4 draw: no winner\n"
     ]
    }
   ],
   "source": [
    "## This code is exactly the same with the sample code in '5-A simple game_Undercut.py'\n",
    "class Player:\n",
    "    def __init__(self,name='',score=0):\n",
    "        self.name=name\n",
    "        self.score=score\n",
    "    def getName(self):\n",
    "        return self.name\n",
    "    def resetScore(self):\n",
    "        self.score=0\n",
    "    def increaseScore(self):\n",
    "        self.score+=1\n",
    "    def __str__(self):\n",
    "        return str((self.name,self.score))\n",
    "    def __repr__(self):\n",
    "        return 'Player'+str(self)\n",
    "\n",
    "import random\n",
    "class Computer(Player):\n",
    "    def __init__(self):\n",
    "        super().__init__()\n",
    "    def getMove(self):\n",
    "        return random.randint(1,10)\n",
    "    def __repr__(self):\n",
    "        return 'Computer'+str(self)\n",
    "\n",
    "class Human(Player):\n",
    "    def __init__(self):\n",
    "        super().__init__()\n",
    "    def getMove(self):\n",
    "        while True:\n",
    "            try:\n",
    "                n=int(input('Enter an integer:'))\n",
    "                if n>=1 and n<=10:\n",
    "                    return n\n",
    "                else:\n",
    "                    print('invalid input')\n",
    "            except:\n",
    "                print('invalid input')\n",
    "    def __repr__(self):\n",
    "        return 'Human'+str(self)\n",
    "\n",
    "def main():\n",
    "    c=Computer()\n",
    "    c.name='MyPython'\n",
    "    h=Human()\n",
    "    h.name='Jay'\n",
    "    print(playUnderCut(c,h))\n",
    "\n",
    "def playUnderCut(p1,p2):\n",
    "    p1.resetScore()\n",
    "    p2.resetScore()\n",
    "    m1=p1.getMove()\n",
    "    m2=p2.getMove()\n",
    "    if m1==m2-1:\n",
    "        p1.increaseScore()\n",
    "        return p1.getName()+' moves '+str(m1)+' '\\\n",
    "               +p2.getName()+' moves '+str(m2)+' '\\\n",
    "               +p1.getName()+' wins '\n",
    "    elif m2==m1-1:\n",
    "        p2.increaseScore()\n",
    "        return p1.getName()+' moves '+str(m1)+' '\\\n",
    "               +p2.getName()+' moves '+str(m2)+' '\\\n",
    "               +p2.getName()+' wins '\n",
    "    else:\n",
    "        return p1.getName()+' moves '+str(m1)+' '\\\n",
    "               +p2.getName()+' moves '+str(m2)+' '\\\n",
    "               'draw: no winner'\n",
    "    \n",
    "main()"
   ]
  },
  {
   "cell_type": "markdown",
   "metadata": {},
   "source": [
    "## Sending my best wishes for your midterms ☺️💪\n",
    "\n",
    "ps. Don't forget to take care of yourselves too during these stressful period! "
   ]
  },
  {
   "cell_type": "markdown",
   "metadata": {},
   "source": []
  }
 ],
 "metadata": {
  "kernelspec": {
   "display_name": "Python 3",
   "language": "python",
   "name": "python3"
  },
  "language_info": {
   "codemirror_mode": {
    "name": "ipython",
    "version": 3
   },
   "file_extension": ".py",
   "mimetype": "text/x-python",
   "name": "python",
   "nbconvert_exporter": "python",
   "pygments_lexer": "ipython3",
   "version": "3.11.2"
  }
 },
 "nbformat": 4,
 "nbformat_minor": 2
}
